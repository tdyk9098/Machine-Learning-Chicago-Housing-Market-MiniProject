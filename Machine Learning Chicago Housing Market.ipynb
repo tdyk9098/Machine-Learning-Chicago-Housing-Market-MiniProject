{
 "cells": [
  {
   "cell_type": "code",
   "execution_count": 1,
   "id": "c81d6073",
   "metadata": {},
   "outputs": [
    {
     "data": {
      "text/html": [
       "        <script type=\"text/javascript\">\n",
       "        window.PlotlyConfig = {MathJaxConfig: 'local'};\n",
       "        if (window.MathJax) {MathJax.Hub.Config({SVG: {font: \"STIX-Web\"}});}\n",
       "        if (typeof require !== 'undefined') {\n",
       "        require.undef(\"plotly\");\n",
       "        requirejs.config({\n",
       "            paths: {\n",
       "                'plotly': ['https://cdn.plot.ly/plotly-2.11.1.min']\n",
       "            }\n",
       "        });\n",
       "        require(['plotly'], function(Plotly) {\n",
       "            window._Plotly = Plotly;\n",
       "        });\n",
       "        }\n",
       "        </script>\n",
       "        "
      ]
     },
     "metadata": {},
     "output_type": "display_data"
    },
    {
     "data": {
      "text/html": [
       "        <script type=\"text/javascript\">\n",
       "        window.PlotlyConfig = {MathJaxConfig: 'local'};\n",
       "        if (window.MathJax) {MathJax.Hub.Config({SVG: {font: \"STIX-Web\"}});}\n",
       "        if (typeof require !== 'undefined') {\n",
       "        require.undef(\"plotly\");\n",
       "        requirejs.config({\n",
       "            paths: {\n",
       "                'plotly': ['https://cdn.plot.ly/plotly-2.11.1.min']\n",
       "            }\n",
       "        });\n",
       "        require(['plotly'], function(Plotly) {\n",
       "            window._Plotly = Plotly;\n",
       "        });\n",
       "        }\n",
       "        </script>\n",
       "        "
      ]
     },
     "metadata": {},
     "output_type": "display_data"
    }
   ],
   "source": [
    "import pandas as pd\n",
    "import numpy as np\n",
    "import seaborn as sns\n",
    "import matplotlib.pyplot as plt\n",
    "import plotly\n",
    "import cufflinks as cf\n",
    "from plotly.offline import download_plotlyjs, init_notebook_mode,plot,iplot\n",
    "init_notebook_mode(connected = True)\n",
    "import chart_studio.plotly as py\n",
    "from sklearn.model_selection import train_test_split\n",
    "from sklearn.linear_model import LogisticRegression\n",
    "from sklearn.linear_model import LinearRegression\n",
    "import scipy.stats as st\n",
    "cf.go_offline()\n",
    "%matplotlib inline"
   ]
  },
  {
   "cell_type": "code",
   "execution_count": 2,
   "id": "fdb669a2",
   "metadata": {},
   "outputs": [],
   "source": [
    "# Load the Data\n",
    "df = pd.read_excel(\"Chicago IL Housing Sample.xlsx\")"
   ]
  },
  {
   "cell_type": "code",
   "execution_count": 3,
   "id": "071fc42a",
   "metadata": {},
   "outputs": [
    {
     "data": {
      "text/html": [
       "<div>\n",
       "<style scoped>\n",
       "    .dataframe tbody tr th:only-of-type {\n",
       "        vertical-align: middle;\n",
       "    }\n",
       "\n",
       "    .dataframe tbody tr th {\n",
       "        vertical-align: top;\n",
       "    }\n",
       "\n",
       "    .dataframe thead th {\n",
       "        text-align: right;\n",
       "    }\n",
       "</style>\n",
       "<table border=\"1\" class=\"dataframe\">\n",
       "  <thead>\n",
       "    <tr style=\"text-align: right;\">\n",
       "      <th></th>\n",
       "      <th>BdN</th>\n",
       "      <th>BaN</th>\n",
       "      <th>Sqft</th>\n",
       "      <th>Price</th>\n",
       "      <th>Zip</th>\n",
       "    </tr>\n",
       "  </thead>\n",
       "  <tbody>\n",
       "    <tr>\n",
       "      <th>0</th>\n",
       "      <td>3</td>\n",
       "      <td>3</td>\n",
       "      <td>3300.0</td>\n",
       "      <td>3200000</td>\n",
       "      <td>60613</td>\n",
       "    </tr>\n",
       "    <tr>\n",
       "      <th>1</th>\n",
       "      <td>6</td>\n",
       "      <td>7</td>\n",
       "      <td>NaN</td>\n",
       "      <td>274900</td>\n",
       "      <td>60654</td>\n",
       "    </tr>\n",
       "    <tr>\n",
       "      <th>2</th>\n",
       "      <td>1</td>\n",
       "      <td>1</td>\n",
       "      <td>800.0</td>\n",
       "      <td>2095000</td>\n",
       "      <td>60614</td>\n",
       "    </tr>\n",
       "    <tr>\n",
       "      <th>3</th>\n",
       "      <td>5</td>\n",
       "      <td>5</td>\n",
       "      <td>NaN</td>\n",
       "      <td>249000</td>\n",
       "      <td>60607</td>\n",
       "    </tr>\n",
       "    <tr>\n",
       "      <th>4</th>\n",
       "      <td>1</td>\n",
       "      <td>1</td>\n",
       "      <td>875.0</td>\n",
       "      <td>474900</td>\n",
       "      <td>60607</td>\n",
       "    </tr>\n",
       "  </tbody>\n",
       "</table>\n",
       "</div>"
      ],
      "text/plain": [
       "   BdN  BaN    Sqft    Price    Zip\n",
       "0    3    3  3300.0  3200000  60613\n",
       "1    6    7     NaN   274900  60654\n",
       "2    1    1   800.0  2095000  60614\n",
       "3    5    5     NaN   249000  60607\n",
       "4    1    1   875.0   474900  60607"
      ]
     },
     "execution_count": 3,
     "metadata": {},
     "output_type": "execute_result"
    }
   ],
   "source": [
    "df.columns = [\"BdN\",\"BaN\",\"Sqft\",\"Price\",\"Zip\"]\n",
    "df.head()"
   ]
  },
  {
   "cell_type": "code",
   "execution_count": 4,
   "id": "41e3e444",
   "metadata": {},
   "outputs": [
    {
     "data": {
      "text/plain": [
       "<seaborn.axisgrid.PairGrid at 0x241a105a6a0>"
      ]
     },
     "execution_count": 4,
     "metadata": {},
     "output_type": "execute_result"
    },
    {
     "data": {
      "image/png": "[encoded data removed]",
      "text/plain": [
       "<Figure size 900x900 with 30 Axes>"
      ]
     },
     "metadata": {
      "needs_background": "light"
     },
     "output_type": "display_data"
    }
   ],
   "source": [
    "sns.pairplot(df)"
   ]
  },
  {
   "cell_type": "code",
   "execution_count": 5,
   "id": "d9f12a54",
   "metadata": {},
   "outputs": [
    {
     "data": {
      "text/plain": [
       "<AxesSubplot:>"
      ]
     },
     "execution_count": 5,
     "metadata": {},
     "output_type": "execute_result"
    },
    {
     "data": {
      "image/png": "[encoded data removed]",
      "text/plain": [
       "<Figure size 432x288 with 2 Axes>"
      ]
     },
     "metadata": {
      "needs_background": "light"
     },
     "output_type": "display_data"
    }
   ],
   "source": [
    "sns.heatmap(df.corr(), annot = True)"
   ]
  },
  {
   "cell_type": "code",
   "execution_count": 6,
   "id": "7f1b5084",
   "metadata": {},
   "outputs": [
    {
     "data": {
      "application/vnd.plotly.v1+json": {
       "config": {
        "linkText": "Export to plot.ly",
        "plotlyServerURL": "https://plot.ly",
        "showLink": true
       },
       "data": [
        {
         "line": {
          "color": "rgba(255, 153, 51, 1.0)",
          "dash": "solid",
          "shape": "linear",
          "width": 1.3
         },
         "marker": {
          "size": 12,
          "symbol": "circle"
         },
         "mode": "markers",
         "name": "Price",
         "text": "",
         "type": "scatter",
         "x": [
          3300,
          null,
          800,
          null,
          875,
          1300,
          null,
          2665,
          1112,
          2700,
          2715,
          1250,
          null,
          null,
          1939,
          2300,
          3554,
          3400,
          796,
          null,
          2975,
          1300,
          1051,
          1000,
          2500,
          1220,
          3125,
          1458,
          null,
          711,
          1200,
          1100,
          4000,
          null,
          null,
          920,
          1550,
          2551,
          2200,
          900,
          2060,
          null,
          1243,
          null,
          null,
          4300,
          null,
          null,
          1100,
          1162,
          null,
          null,
          null,
          1650,
          850,
          1080,
          936,
          1200,
          null,
          2500,
          1221,
          1700,
          null,
          2400,
          1300,
          null,
          2347,
          null,
          2277,
          950,
          1900,
          4500,
          null,
          1152,
          4500,
          null,
          1152,
          null,
          850,
          2200,
          null,
          null,
          1080,
          null,
          null,
          1100,
          736,
          1300,
          2000,
          null,
          null,
          null,
          1125,
          null,
          null,
          1902,
          638,
          3200,
          2500,
          2300,
          1500,
          2968,
          null,
          1200,
          null,
          null,
          null,
          1848,
          850,
          1966,
          null,
          2452,
          null,
          2200,
          null,
          null,
          null,
          1843,
          3000,
          1770,
          null,
          null,
          null,
          1574,
          null,
          null,
          1700,
          1200,
          909,
          null,
          1800,
          null,
          null,
          1000,
          null,
          1150,
          1428,
          2600,
          1203,
          null,
          1900,
          1450,
          1833,
          null,
          2087,
          2600,
          1076,
          1400,
          1253,
          null,
          1218,
          null,
          1200,
          1008,
          1000,
          null,
          2080,
          3552,
          2340,
          1290,
          970,
          null,
          3000,
          30000,
          null,
          3950,
          null,
          997,
          1904,
          900,
          1400,
          1250,
          null,
          1180,
          null,
          null,
          750,
          1200,
          null,
          2400,
          2242,
          800,
          null,
          1832,
          1277,
          1030,
          4300,
          2200,
          null,
          860,
          1800,
          null,
          1455,
          1400,
          4980,
          null,
          null,
          550,
          520,
          1135,
          1400,
          1300,
          936,
          null,
          1185,
          null,
          null,
          null,
          1500,
          3600,
          750,
          2200,
          3516,
          null,
          1722,
          1100,
          null,
          1550,
          null,
          null,
          1118,
          null,
          null,
          2754,
          null,
          1000,
          3600,
          null,
          1560,
          null,
          2300,
          null,
          2125,
          1000,
          1300,
          2843,
          null,
          950,
          1068,
          800,
          null,
          1556,
          1746,
          null,
          2143,
          1100,
          null,
          null,
          null,
          null,
          null,
          3483,
          null,
          1160,
          1000,
          null,
          1780,
          850,
          1100,
          1315,
          null,
          940,
          null,
          600,
          null,
          750,
          830,
          1226,
          null,
          780,
          2100,
          null,
          null,
          null,
          null,
          null,
          null,
          2845,
          1200,
          null,
          null,
          2836,
          876,
          1054,
          null,
          1200,
          null,
          3045,
          900,
          5634,
          900,
          1071,
          1783,
          1600,
          null,
          null,
          1450,
          null,
          null,
          979,
          1845,
          1600,
          2200,
          1900,
          10000,
          null,
          null,
          1929,
          875,
          null,
          1300,
          850,
          null,
          null,
          600,
          1298,
          null,
          null,
          4000,
          2082,
          2800,
          null,
          1240,
          null,
          null,
          850,
          2200,
          1800,
          3809,
          1395,
          null,
          null,
          3000,
          2000,
          2051,
          2200,
          null,
          2484,
          null,
          null,
          906,
          758,
          1250,
          null,
          1069,
          750,
          2700,
          1200,
          1100,
          1104,
          1842,
          null,
          2600,
          1000,
          null,
          null,
          1121,
          1800,
          1100,
          925,
          null,
          null,
          null,
          null,
          null,
          1100,
          null,
          3000,
          1500,
          900,
          null,
          null,
          null,
          2800,
          1100,
          2068,
          2300,
          1904,
          930,
          800,
          1581,
          1642,
          1000,
          1450,
          993,
          null,
          1547,
          null,
          960,
          1000,
          1488,
          null,
          1380,
          null,
          1064,
          2000,
          909,
          null,
          1400,
          2790,
          1071,
          850,
          1419,
          1096,
          1400,
          1334,
          null,
          3400,
          1000,
          null,
          789,
          2345,
          3000,
          850,
          1791,
          1791,
          2200,
          null,
          754,
          950,
          863,
          1583,
          2072,
          900,
          null,
          null,
          2138,
          null,
          1370,
          null,
          1510,
          null,
          1275,
          1735,
          1064,
          745,
          1808,
          1600,
          1300,
          3750,
          2698,
          800,
          830,
          null,
          1000,
          null,
          null,
          2562,
          900,
          1300,
          1106,
          3312,
          null,
          3500,
          600,
          null,
          1500,
          1200,
          null,
          910,
          1349,
          1500,
          3150,
          2100,
          3200,
          1312,
          1600,
          690,
          1000,
          3080,
          1088,
          null,
          1050,
          1385,
          1621,
          820,
          4075,
          3492,
          null,
          null,
          null,
          1183,
          950,
          1500,
          null,
          null,
          850,
          1176,
          2400,
          2500,
          953,
          1402,
          1639,
          800,
          1638,
          null,
          1358,
          null,
          1229,
          1460,
          800,
          null,
          1025,
          1100,
          1113,
          1121,
          null,
          723,
          null,
          2100,
          null,
          1651,
          null,
          2000,
          null,
          2730,
          null,
          1104,
          920,
          null,
          11400,
          800,
          1218,
          1100,
          1114,
          1450,
          null,
          null,
          null,
          3600,
          null,
          null,
          null,
          null,
          1070,
          null,
          null,
          null,
          1700,
          800,
          1000,
          null,
          3982,
          null,
          3758,
          5750,
          null,
          5500,
          null,
          null,
          1295,
          null,
          null,
          null,
          1261,
          1162,
          659,
          null,
          null,
          null,
          850,
          1300,
          2304,
          885,
          604,
          null,
          1885,
          null,
          1660,
          null,
          1400,
          750,
          null,
          1070,
          2648,
          null,
          1000,
          null,
          null,
          2685,
          870,
          null,
          6500,
          null,
          6800,
          800,
          null,
          700,
          1248,
          1302,
          2700,
          950,
          1600,
          2329,
          2329
         ],
         "y": [
          3200000,
          274900,
          2095000,
          249000,
          474900,
          87900,
          899000,
          264900,
          4950000,
          819999,
          285000,
          289000,
          1390000,
          672000,
          440000,
          259900,
          1750000,
          169500,
          675000,
          35000,
          575000,
          315000,
          260000,
          600000,
          254900,
          429000,
          84900,
          200000,
          197500,
          99500,
          23000,
          1949900,
          155900,
          263900,
          325000,
          419000,
          639900,
          385000,
          139900,
          549900,
          535000,
          299900,
          2099000,
          1499000,
          1375000,
          799000,
          1099000,
          330000,
          225000,
          459900,
          59900,
          399900,
          424900,
          175000,
          340000,
          224900,
          409000,
          270000,
          1699000,
          385000,
          599000,
          279999,
          1195000,
          28000,
          625000,
          1200000,
          1295000,
          1450000,
          138500,
          449900,
          1400000,
          229000,
          265000,
          425000,
          229000,
          265000,
          425000,
          239900,
          549900,
          189900,
          494000,
          500000,
          329899,
          689000,
          499000,
          120000,
          444900,
          950000,
          375000,
          305000,
          282800,
          349900,
          299900,
          299900,
          1050000,
          179900,
          1280000,
          659000,
          1049000,
          364900,
          2995000,
          380000,
          400000,
          169900,
          249900,
          140000,
          219000,
          229000,
          259000,
          1300000,
          1300000,
          149900,
          569000,
          414900,
          695000,
          475000,
          799900,
          839900,
          849000,
          439250,
          500000,
          949000,
          380000,
          385000,
          264900,
          234000,
          449000,
          299000,
          1050000,
          515000,
          629500,
          675000,
          145000,
          599900,
          234500,
          49000,
          899000,
          160000,
          294995,
          600000,
          349000,
          449000,
          645000,
          675000,
          15000,
          300000,
          229900,
          445000,
          425000,
          445000,
          419900,
          364900,
          245000,
          100000,
          312500,
          375000,
          1999000,
          299900,
          325000,
          325000,
          575000,
          1699000,
          349000,
          315000,
          949000,
          305000,
          240000,
          899000,
          170000,
          420000,
          339900,
          319900,
          189000,
          69900,
          349000,
          279000,
          249900,
          200000,
          595000,
          550000,
          182500,
          120000,
          171000,
          325000,
          169900,
          614000,
          589000,
          374999,
          165000,
          644900,
          1300000,
          240000,
          269000,
          2995000,
          1250000,
          549900,
          149900,
          220000,
          775000,
          334900,
          199000,
          145000,
          329900,
          420000,
          359900,
          195000,
          209000,
          260000,
          879000,
          315000,
          675000,
          1585000,
          169000,
          200000,
          169999,
          285000,
          457900,
          183000,
          239000,
          240000,
          239900,
          199900,
          1850000,
          150000,
          340000,
          779000,
          775000,
          469613,
          255000,
          779000,
          249900,
          167250,
          225000,
          345000,
          3190000,
          1200000,
          199900,
          339000,
          265000,
          685000,
          690000,
          1200000,
          729900,
          995000,
          499900,
          364500,
          795000,
          1125000,
          164300,
          399000,
          1499000,
          849000,
          429900,
          120000,
          619000,
          249900,
          149000,
          235000,
          499000,
          269900,
          199900,
          150000,
          140000,
          260000,
          159900,
          190000,
          379900,
          270000,
          209900,
          615000,
          900000,
          240000,
          999995,
          130000,
          230000,
          60000,
          825000,
          359000,
          249500,
          600000,
          749900,
          215000,
          300000,
          160000,
          385000,
          280000,
          900000,
          299999,
          2395000,
          320000,
          349900,
          550000,
          163000,
          245000,
          325000,
          440000,
          1895000,
          370000,
          400000,
          600000,
          449000,
          1029000,
          299900,
          9999990,
          259900,
          437500,
          799000,
          399000,
          525000,
          310000,
          234900,
          349900,
          715000,
          280000,
          187500,
          599000,
          679900,
          3850000,
          1175000,
          775000,
          575000,
          179000,
          1325000,
          320000,
          274500,
          850000,
          239900,
          2900000,
          599000,
          444999,
          250000,
          1399500,
          299000,
          2395000,
          349900,
          185000,
          324000,
          210000,
          850000,
          150000,
          279000,
          340000,
          1800000,
          125000,
          269999,
          699000,
          289999,
          275000,
          324873,
          664000,
          274500,
          399900,
          249500,
          315000,
          899500,
          254900,
          785000,
          479500,
          157000,
          729900,
          1200000,
          220000,
          569000,
          354900,
          135000,
          1150000,
          685000,
          375000,
          95000,
          459000,
          180000,
          399000,
          395000,
          424900,
          449000,
          380000,
          349000,
          335000,
          128000,
          1230000,
          486500,
          360000,
          715000,
          199900,
          89900,
          899900,
          1050000,
          173900,
          135000,
          250000,
          279000,
          303000,
          48000,
          135000,
          300000,
          229000,
          125000,
          269000,
          299000,
          397500,
          310000,
          325000,
          189000,
          499900,
          229000,
          420000,
          749900,
          174900,
          649900,
          299000,
          535000,
          589000,
          150000,
          539000,
          468000,
          669000,
          489000,
          109000,
          179900,
          319000,
          429900,
          450000,
          219900,
          395000,
          299000,
          185000,
          220000,
          399000,
          489000,
          155000,
          340000,
          237900,
          325000,
          224900,
          295000,
          195000,
          599900,
          450000,
          275000,
          1499000,
          310000,
          235000,
          1175000,
          325000,
          292900,
          469000,
          274900,
          124900,
          189000,
          70000,
          399900,
          540000,
          639900,
          109900,
          375000,
          334987,
          329000,
          460000,
          254999,
          599000,
          99888,
          1349000,
          225000,
          450000,
          1500000,
          229900,
          255000,
          75000,
          289000,
          330000,
          4950000,
          310000,
          364000,
          959000,
          249900,
          2499000,
          424900,
          574900,
          424999,
          264900,
          419000,
          225000,
          259900,
          325000,
          289000,
          235000,
          145000,
          975000,
          799000,
          174900,
          550000,
          815000,
          159900,
          475000,
          725000,
          570000,
          294900,
          389000,
          750000,
          265000,
          339900,
          459000,
          435000,
          399900,
          359900,
          630000,
          210000,
          365000,
          825000,
          450000,
          2400000,
          195000,
          395000,
          150000,
          329000,
          244900,
          234900,
          159000,
          725000,
          334900,
          315000,
          379000,
          145000,
          325000,
          449900,
          123667,
          123667,
          165000,
          1254000,
          109000,
          123667,
          123667,
          250000,
          315000,
          123667,
          123667,
          179900,
          579000,
          170000,
          273500,
          260000,
          675000,
          465000,
          4325000,
          3500000,
          182500,
          2500000,
          1100000,
          169900,
          549990,
          280000,
          224900,
          1099000,
          395000,
          279000,
          130000,
          339900,
          280000,
          1200000,
          145000,
          465000,
          275000,
          350000,
          250000,
          249999,
          430000,
          225000,
          675000,
          1299900,
          345000,
          275000,
          389000,
          399900,
          315000,
          550000,
          160000,
          569000,
          275000,
          924500,
          34900,
          265000,
          2750000,
          1350000,
          4850000,
          157500,
          110000,
          129900,
          359900,
          255000,
          675000,
          285000,
          525000,
          142900,
          739000,
          269000
         ]
        }
       ],
       "layout": {
        "legend": {
         "bgcolor": "#F5F6F9",
         "font": {
          "color": "#4D5663"
         }
        },
        "paper_bgcolor": "#F5F6F9",
        "plot_bgcolor": "#F5F6F9",
        "template": {
         "data": {
          "bar": [
           {
            "error_x": {
             "color": "#2a3f5f"
            },
            "error_y": {
             "color": "#2a3f5f"
            },
            "marker": {
             "line": {
              "color": "#E5ECF6",
              "width": 0.5
             },
             "pattern": {
              "fillmode": "overlay",
              "size": 10,
              "solidity": 0.2
             }
            },
            "type": "bar"
           }
          ],
          "barpolar": [
           {
            "marker": {
             "line": {
              "color": "#E5ECF6",
              "width": 0.5
             },
             "pattern": {
              "fillmode": "overlay",
              "size": 10,
              "solidity": 0.2
             }
            },
            "type": "barpolar"
           }
          ],
          "carpet": [
           {
            "aaxis": {
             "endlinecolor": "#2a3f5f",
             "gridcolor": "white",
             "linecolor": "white",
             "minorgridcolor": "white",
             "startlinecolor": "#2a3f5f"
            },
            "baxis": {
             "endlinecolor": "#2a3f5f",
             "gridcolor": "white",
             "linecolor": "white",
             "minorgridcolor": "white",
             "startlinecolor": "#2a3f5f"
            },
            "type": "carpet"
           }
          ],
          "choropleth": [
           {
            "colorbar": {
             "outlinewidth": 0,
             "ticks": ""
            },
            "type": "choropleth"
           }
          ],
          "contour": [
           {
            "colorbar": {
             "outlinewidth": 0,
             "ticks": ""
            },
            "colorscale": [
             [
              0,
              "#0d0887"
             ],
             [
              0.1111111111111111,
              "#46039f"
             ],
             [
              0.2222222222222222,
              "#7201a8"
             ],
             [
              0.3333333333333333,
              "#9c179e"
             ],
             [
              0.4444444444444444,
              "#bd3786"
             ],
             [
              0.5555555555555556,
              "#d8576b"
             ],
             [
              0.6666666666666666,
              "#ed7953"
             ],
             [
              0.7777777777777778,
              "#fb9f3a"
             ],
             [
              0.8888888888888888,
              "#fdca26"
             ],
             [
              1,
              "#f0f921"
             ]
            ],
            "type": "contour"
           }
          ],
          "contourcarpet": [
           {
            "colorbar": {
             "outlinewidth": 0,
             "ticks": ""
            },
            "type": "contourcarpet"
           }
          ],
          "heatmap": [
           {
            "colorbar": {
             "outlinewidth": 0,
             "ticks": ""
            },
            "colorscale": [
             [
              0,
              "#0d0887"
             ],
             [
              0.1111111111111111,
              "#46039f"
             ],
             [
              0.2222222222222222,
              "#7201a8"
             ],
             [
              0.3333333333333333,
              "#9c179e"
             ],
             [
              0.4444444444444444,
              "#bd3786"
             ],
             [
              0.5555555555555556,
              "#d8576b"
             ],
             [
              0.6666666666666666,
              "#ed7953"
             ],
             [
              0.7777777777777778,
              "#fb9f3a"
             ],
             [
              0.8888888888888888,
              "#fdca26"
             ],
             [
              1,
              "#f0f921"
             ]
            ],
            "type": "heatmap"
           }
          ],
          "heatmapgl": [
           {
            "colorbar": {
             "outlinewidth": 0,
             "ticks": ""
            },
            "colorscale": [
             [
              0,
              "#0d0887"
             ],
             [
              0.1111111111111111,
              "#46039f"
             ],
             [
              0.2222222222222222,
              "#7201a8"
             ],
             [
              0.3333333333333333,
              "#9c179e"
             ],
             [
              0.4444444444444444,
              "#bd3786"
             ],
             [
              0.5555555555555556,
              "#d8576b"
             ],
             [
              0.6666666666666666,
              "#ed7953"
             ],
             [
              0.7777777777777778,
              "#fb9f3a"
             ],
             [
              0.8888888888888888,
              "#fdca26"
             ],
             [
              1,
              "#f0f921"
             ]
            ],
            "type": "heatmapgl"
           }
          ],
          "histogram": [
           {
            "marker": {
             "pattern": {
              "fillmode": "overlay",
              "size": 10,
              "solidity": 0.2
             }
            },
            "type": "histogram"
           }
          ],
          "histogram2d": [
           {
            "colorbar": {
             "outlinewidth": 0,
             "ticks": ""
            },
            "colorscale": [
             [
              0,
              "#0d0887"
             ],
             [
              0.1111111111111111,
              "#46039f"
             ],
             [
              0.2222222222222222,
              "#7201a8"
             ],
             [
              0.3333333333333333,
              "#9c179e"
             ],
             [
              0.4444444444444444,
              "#bd3786"
             ],
             [
              0.5555555555555556,
              "#d8576b"
             ],
             [
              0.6666666666666666,
              "#ed7953"
             ],
             [
              0.7777777777777778,
              "#fb9f3a"
             ],
             [
              0.8888888888888888,
              "#fdca26"
             ],
             [
              1,
              "#f0f921"
             ]
            ],
            "type": "histogram2d"
           }
          ],
          "histogram2dcontour": [
           {
            "colorbar": {
             "outlinewidth": 0,
             "ticks": ""
            },
            "colorscale": [
             [
              0,
              "#0d0887"
             ],
             [
              0.1111111111111111,
              "#46039f"
             ],
             [
              0.2222222222222222,
              "#7201a8"
             ],
             [
              0.3333333333333333,
              "#9c179e"
             ],
             [
              0.4444444444444444,
              "#bd3786"
             ],
             [
              0.5555555555555556,
              "#d8576b"
             ],
             [
              0.6666666666666666,
              "#ed7953"
             ],
             [
              0.7777777777777778,
              "#fb9f3a"
             ],
             [
              0.8888888888888888,
              "#fdca26"
             ],
             [
              1,
              "#f0f921"
             ]
            ],
            "type": "histogram2dcontour"
           }
          ],
          "mesh3d": [
           {
            "colorbar": {
             "outlinewidth": 0,
             "ticks": ""
            },
            "type": "mesh3d"
           }
          ],
          "parcoords": [
           {
            "line": {
             "colorbar": {
              "outlinewidth": 0,
              "ticks": ""
             }
            },
            "type": "parcoords"
           }
          ],
          "pie": [
           {
            "automargin": true,
            "type": "pie"
           }
          ],
          "scatter": [
           {
            "fillpattern": {
             "fillmode": "overlay",
             "size": 10,
             "solidity": 0.2
            },
            "type": "scatter"
           }
          ],
          "scatter3d": [
           {
            "line": {
             "colorbar": {
              "outlinewidth": 0,
              "ticks": ""
             }
            },
            "marker": {
             "colorbar": {
              "outlinewidth": 0,
              "ticks": ""
             }
            },
            "type": "scatter3d"
           }
          ],
          "scattercarpet": [
           {
            "marker": {
             "colorbar": {
              "outlinewidth": 0,
              "ticks": ""
             }
            },
            "type": "scattercarpet"
           }
          ],
          "scattergeo": [
           {
            "marker": {
             "colorbar": {
              "outlinewidth": 0,
              "ticks": ""
             }
            },
            "type": "scattergeo"
           }
          ],
          "scattergl": [
           {
            "marker": {
             "colorbar": {
              "outlinewidth": 0,
              "ticks": ""
             }
            },
            "type": "scattergl"
           }
          ],
          "scattermapbox": [
           {
            "marker": {
             "colorbar": {
              "outlinewidth": 0,
              "ticks": ""
             }
            },
            "type": "scattermapbox"
           }
          ],
          "scatterpolar": [
           {
            "marker": {
             "colorbar": {
              "outlinewidth": 0,
              "ticks": ""
             }
            },
            "type": "scatterpolar"
           }
          ],
          "scatterpolargl": [
           {
            "marker": {
             "colorbar": {
              "outlinewidth": 0,
              "ticks": ""
             }
            },
            "type": "scatterpolargl"
           }
          ],
          "scatterternary": [
           {
            "marker": {
             "colorbar": {
              "outlinewidth": 0,
              "ticks": ""
             }
            },
            "type": "scatterternary"
           }
          ],
          "surface": [
           {
            "colorbar": {
             "outlinewidth": 0,
             "ticks": ""
            },
            "colorscale": [
             [
              0,
              "#0d0887"
             ],
             [
              0.1111111111111111,
              "#46039f"
             ],
             [
              0.2222222222222222,
              "#7201a8"
             ],
             [
              0.3333333333333333,
              "#9c179e"
             ],
             [
              0.4444444444444444,
              "#bd3786"
             ],
             [
              0.5555555555555556,
              "#d8576b"
             ],
             [
              0.6666666666666666,
              "#ed7953"
             ],
             [
              0.7777777777777778,
              "#fb9f3a"
             ],
             [
              0.8888888888888888,
              "#fdca26"
             ],
             [
              1,
              "#f0f921"
             ]
            ],
            "type": "surface"
           }
          ],
          "table": [
           {
            "cells": {
             "fill": {
              "color": "#EBF0F8"
             },
             "line": {
              "color": "white"
             }
            },
            "header": {
             "fill": {
              "color": "#C8D4E3"
             },
             "line": {
              "color": "white"
             }
            },
            "type": "table"
           }
          ]
         },
         "layout": {
          "annotationdefaults": {
           "arrowcolor": "#2a3f5f",
           "arrowhead": 0,
           "arrowwidth": 1
          },
          "autotypenumbers": "strict",
          "coloraxis": {
           "colorbar": {
            "outlinewidth": 0,
            "ticks": ""
           }
          },
          "colorscale": {
           "diverging": [
            [
             0,
             "#8e0152"
            ],
            [
             0.1,
             "#c51b7d"
            ],
            [
             0.2,
             "#de77ae"
            ],
            [
             0.3,
             "#f1b6da"
            ],
            [
             0.4,
             "#fde0ef"
            ],
            [
             0.5,
             "#f7f7f7"
            ],
            [
             0.6,
             "#e6f5d0"
            ],
            [
             0.7,
             "#b8e186"
            ],
            [
             0.8,
             "#7fbc41"
            ],
            [
             0.9,
             "#4d9221"
            ],
            [
             1,
             "#276419"
            ]
           ],
           "sequential": [
            [
             0,
             "#0d0887"
            ],
            [
             0.1111111111111111,
             "#46039f"
            ],
            [
             0.2222222222222222,
             "#7201a8"
            ],
            [
             0.3333333333333333,
             "#9c179e"
            ],
            [
             0.4444444444444444,
             "#bd3786"
            ],
            [
             0.5555555555555556,
             "#d8576b"
            ],
            [
             0.6666666666666666,
             "#ed7953"
            ],
            [
             0.7777777777777778,
             "#fb9f3a"
            ],
            [
             0.8888888888888888,
             "#fdca26"
            ],
            [
             1,
             "#f0f921"
            ]
           ],
           "sequentialminus": [
            [
             0,
             "#0d0887"
            ],
            [
             0.1111111111111111,
             "#46039f"
            ],
            [
             0.2222222222222222,
             "#7201a8"
            ],
            [
             0.3333333333333333,
             "#9c179e"
            ],
            [
             0.4444444444444444,
             "#bd3786"
            ],
            [
             0.5555555555555556,
             "#d8576b"
            ],
            [
             0.6666666666666666,
             "#ed7953"
            ],
            [
             0.7777777777777778,
             "#fb9f3a"
            ],
            [
             0.8888888888888888,
             "#fdca26"
            ],
            [
             1,
             "#f0f921"
            ]
           ]
          },
          "colorway": [
           "#636efa",
           "#EF553B",
           "#00cc96",
           "#ab63fa",
           "#FFA15A",
           "#19d3f3",
           "#FF6692",
           "#B6E880",
           "#FF97FF",
           "#FECB52"
          ],
          "font": {
           "color": "#2a3f5f"
          },
          "geo": {
           "bgcolor": "white",
           "lakecolor": "white",
           "landcolor": "#E5ECF6",
           "showlakes": true,
           "showland": true,
           "subunitcolor": "white"
          },
          "hoverlabel": {
           "align": "left"
          },
          "hovermode": "closest",
          "mapbox": {
           "style": "light"
          },
          "paper_bgcolor": "white",
          "plot_bgcolor": "#E5ECF6",
          "polar": {
           "angularaxis": {
            "gridcolor": "white",
            "linecolor": "white",
            "ticks": ""
           },
           "bgcolor": "#E5ECF6",
           "radialaxis": {
            "gridcolor": "white",
            "linecolor": "white",
            "ticks": ""
           }
          },
          "scene": {
           "xaxis": {
            "backgroundcolor": "#E5ECF6",
            "gridcolor": "white",
            "gridwidth": 2,
            "linecolor": "white",
            "showbackground": true,
            "ticks": "",
            "zerolinecolor": "white"
           },
           "yaxis": {
            "backgroundcolor": "#E5ECF6",
            "gridcolor": "white",
            "gridwidth": 2,
            "linecolor": "white",
            "showbackground": true,
            "ticks": "",
            "zerolinecolor": "white"
           },
           "zaxis": {
            "backgroundcolor": "#E5ECF6",
            "gridcolor": "white",
            "gridwidth": 2,
            "linecolor": "white",
            "showbackground": true,
            "ticks": "",
            "zerolinecolor": "white"
           }
          },
          "shapedefaults": {
           "line": {
            "color": "#2a3f5f"
           }
          },
          "ternary": {
           "aaxis": {
            "gridcolor": "white",
            "linecolor": "white",
            "ticks": ""
           },
           "baxis": {
            "gridcolor": "white",
            "linecolor": "white",
            "ticks": ""
           },
           "bgcolor": "#E5ECF6",
           "caxis": {
            "gridcolor": "white",
            "linecolor": "white",
            "ticks": ""
           }
          },
          "title": {
           "x": 0.05
          },
          "xaxis": {
           "automargin": true,
           "gridcolor": "white",
           "linecolor": "white",
           "ticks": "",
           "title": {
            "standoff": 15
           },
           "zerolinecolor": "white",
           "zerolinewidth": 2
          },
          "yaxis": {
           "automargin": true,
           "gridcolor": "white",
           "linecolor": "white",
           "ticks": "",
           "title": {
            "standoff": 15
           },
           "zerolinecolor": "white",
           "zerolinewidth": 2
          }
         }
        },
        "title": {
         "font": {
          "color": "#4D5663"
         }
        },
        "xaxis": {
         "gridcolor": "#E1E5ED",
         "showgrid": true,
         "tickfont": {
          "color": "#4D5663"
         },
         "title": {
          "font": {
           "color": "#4D5663"
          },
          "text": "Sqft"
         },
         "zerolinecolor": "#E1E5ED"
        },
        "yaxis": {
         "gridcolor": "#E1E5ED",
         "showgrid": true,
         "tickfont": {
          "color": "#4D5663"
         },
         "title": {
          "font": {
           "color": "#4D5663"
          },
          "text": "Price"
         },
         "zerolinecolor": "#E1E5ED"
        }
       }
      },
      "text/html": [
       "<div>                            <div id=\"71f320a6-7139-449d-9adc-9fa3da498794\" class=\"plotly-graph-div\" style=\"height:525px; width:100%;\"></div>            <script type=\"text/javascript\">                require([\"plotly\"], function(Plotly) {                    window.PLOTLYENV=window.PLOTLYENV || {};\n",
       "                    window.PLOTLYENV.BASE_URL='https://plot.ly';                                    if (document.getElementById(\"71f320a6-7139-449d-9adc-9fa3da498794\")) {                    Plotly.newPlot(                        \"71f320a6-7139-449d-9adc-9fa3da498794\",                        [{\"line\":{\"color\":\"rgba(255, 153, 51, 1.0)\",\"dash\":\"solid\",\"shape\":\"linear\",\"width\":1.3},\"marker\":{\"size\":12,\"symbol\":\"circle\"},\"mode\":\"markers\",\"name\":\"Price\",\"text\":\"\",\"x\":[3300.0,null,800.0,null,875.0,1300.0,null,2665.0,1112.0,2700.0,2715.0,1250.0,null,null,1939.0,2300.0,3554.0,3400.0,796.0,null,2975.0,1300.0,1051.0,1000.0,2500.0,1220.0,3125.0,1458.0,null,711.0,1200.0,1100.0,4000.0,null,null,920.0,1550.0,2551.0,2200.0,900.0,2060.0,null,1243.0,null,null,4300.0,null,null,1100.0,1162.0,null,null,null,1650.0,850.0,1080.0,936.0,1200.0,null,2500.0,1221.0,1700.0,null,2400.0,1300.0,null,2347.0,null,2277.0,950.0,1900.0,4500.0,null,1152.0,4500.0,null,1152.0,null,850.0,2200.0,null,null,1080.0,null,null,1100.0,736.0,1300.0,2000.0,null,null,null,1125.0,null,null,1902.0,638.0,3200.0,2500.0,2300.0,1500.0,2968.0,null,1200.0,null,null,null,1848.0,850.0,1966.0,null,2452.0,null,2200.0,null,null,null,1843.0,3000.0,1770.0,null,null,null,1574.0,null,null,1700.0,1200.0,909.0,null,1800.0,null,null,1000.0,null,1150.0,1428.0,2600.0,1203.0,null,1900.0,1450.0,1833.0,null,2087.0,2600.0,1076.0,1400.0,1253.0,null,1218.0,null,1200.0,1008.0,1000.0,null,2080.0,3552.0,2340.0,1290.0,970.0,null,3000.0,30000.0,null,3950.0,null,997.0,1904.0,900.0,1400.0,1250.0,null,1180.0,null,null,750.0,1200.0,null,2400.0,2242.0,800.0,null,1832.0,1277.0,1030.0,4300.0,2200.0,null,860.0,1800.0,null,1455.0,1400.0,4980.0,null,null,550.0,520.0,1135.0,1400.0,1300.0,936.0,null,1185.0,null,null,null,1500.0,3600.0,750.0,2200.0,3516.0,null,1722.0,1100.0,null,1550.0,null,null,1118.0,null,null,2754.0,null,1000.0,3600.0,null,1560.0,null,2300.0,null,2125.0,1000.0,1300.0,2843.0,null,950.0,1068.0,800.0,null,1556.0,1746.0,null,2143.0,1100.0,null,null,null,null,null,3483.0,null,1160.0,1000.0,null,1780.0,850.0,1100.0,1315.0,null,940.0,null,600.0,null,750.0,830.0,1226.0,null,780.0,2100.0,null,null,null,null,null,null,2845.0,1200.0,null,null,2836.0,876.0,1054.0,null,1200.0,null,3045.0,900.0,5634.0,900.0,1071.0,1783.0,1600.0,null,null,1450.0,null,null,979.0,1845.0,1600.0,2200.0,1900.0,10000.0,null,null,1929.0,875.0,null,1300.0,850.0,null,null,600.0,1298.0,null,null,4000.0,2082.0,2800.0,null,1240.0,null,null,850.0,2200.0,1800.0,3809.0,1395.0,null,null,3000.0,2000.0,2051.0,2200.0,null,2484.0,null,null,906.0,758.0,1250.0,null,1069.0,750.0,2700.0,1200.0,1100.0,1104.0,1842.0,null,2600.0,1000.0,null,null,1121.0,1800.0,1100.0,925.0,null,null,null,null,null,1100.0,null,3000.0,1500.0,900.0,null,null,null,2800.0,1100.0,2068.0,2300.0,1904.0,930.0,800.0,1581.0,1642.0,1000.0,1450.0,993.0,null,1547.0,null,960.0,1000.0,1488.0,null,1380.0,null,1064.0,2000.0,909.0,null,1400.0,2790.0,1071.0,850.0,1419.0,1096.0,1400.0,1334.0,null,3400.0,1000.0,null,789.0,2345.0,3000.0,850.0,1791.0,1791.0,2200.0,null,754.0,950.0,863.0,1583.0,2072.0,900.0,null,null,2138.0,null,1370.0,null,1510.0,null,1275.0,1735.0,1064.0,745.0,1808.0,1600.0,1300.0,3750.0,2698.0,800.0,830.0,null,1000.0,null,null,2562.0,900.0,1300.0,1106.0,3312.0,null,3500.0,600.0,null,1500.0,1200.0,null,910.0,1349.0,1500.0,3150.0,2100.0,3200.0,1312.0,1600.0,690.0,1000.0,3080.0,1088.0,null,1050.0,1385.0,1621.0,820.0,4075.0,3492.0,null,null,null,1183.0,950.0,1500.0,null,null,850.0,1176.0,2400.0,2500.0,953.0,1402.0,1639.0,800.0,1638.0,null,1358.0,null,1229.0,1460.0,800.0,null,1025.0,1100.0,1113.0,1121.0,null,723.0,null,2100.0,null,1651.0,null,2000.0,null,2730.0,null,1104.0,920.0,null,11400.0,800.0,1218.0,1100.0,1114.0,1450.0,null,null,null,3600.0,null,null,null,null,1070.0,null,null,null,1700.0,800.0,1000.0,null,3982.0,null,3758.0,5750.0,null,5500.0,null,null,1295.0,null,null,null,1261.0,1162.0,659.0,null,null,null,850.0,1300.0,2304.0,885.0,604.0,null,1885.0,null,1660.0,null,1400.0,750.0,null,1070.0,2648.0,null,1000.0,null,null,2685.0,870.0,null,6500.0,null,6800.0,800.0,null,700.0,1248.0,1302.0,2700.0,950.0,1600.0,2329.0,2329.0],\"y\":[3200000,274900,2095000,249000,474900,87900,899000,264900,4950000,819999,285000,289000,1390000,672000,440000,259900,1750000,169500,675000,35000,575000,315000,260000,600000,254900,429000,84900,200000,197500,99500,23000,1949900,155900,263900,325000,419000,639900,385000,139900,549900,535000,299900,2099000,1499000,1375000,799000,1099000,330000,225000,459900,59900,399900,424900,175000,340000,224900,409000,270000,1699000,385000,599000,279999,1195000,28000,625000,1200000,1295000,1450000,138500,449900,1400000,229000,265000,425000,229000,265000,425000,239900,549900,189900,494000,500000,329899,689000,499000,120000,444900,950000,375000,305000,282800,349900,299900,299900,1050000,179900,1280000,659000,1049000,364900,2995000,380000,400000,169900,249900,140000,219000,229000,259000,1300000,1300000,149900,569000,414900,695000,475000,799900,839900,849000,439250,500000,949000,380000,385000,264900,234000,449000,299000,1050000,515000,629500,675000,145000,599900,234500,49000,899000,160000,294995,600000,349000,449000,645000,675000,15000,300000,229900,445000,425000,445000,419900,364900,245000,100000,312500,375000,1999000,299900,325000,325000,575000,1699000,349000,315000,949000,305000,240000,899000,170000,420000,339900,319900,189000,69900,349000,279000,249900,200000,595000,550000,182500,120000,171000,325000,169900,614000,589000,374999,165000,644900,1300000,240000,269000,2995000,1250000,549900,149900,220000,775000,334900,199000,145000,329900,420000,359900,195000,209000,260000,879000,315000,675000,1585000,169000,200000,169999,285000,457900,183000,239000,240000,239900,199900,1850000,150000,340000,779000,775000,469613,255000,779000,249900,167250,225000,345000,3190000,1200000,199900,339000,265000,685000,690000,1200000,729900,995000,499900,364500,795000,1125000,164300,399000,1499000,849000,429900,120000,619000,249900,149000,235000,499000,269900,199900,150000,140000,260000,159900,190000,379900,270000,209900,615000,900000,240000,999995,130000,230000,60000,825000,359000,249500,600000,749900,215000,300000,160000,385000,280000,900000,299999,2395000,320000,349900,550000,163000,245000,325000,440000,1895000,370000,400000,600000,449000,1029000,299900,9999990,259900,437500,799000,399000,525000,310000,234900,349900,715000,280000,187500,599000,679900,3850000,1175000,775000,575000,179000,1325000,320000,274500,850000,239900,2900000,599000,444999,250000,1399500,299000,2395000,349900,185000,324000,210000,850000,150000,279000,340000,1800000,125000,269999,699000,289999,275000,324873,664000,274500,399900,249500,315000,899500,254900,785000,479500,157000,729900,1200000,220000,569000,354900,135000,1150000,685000,375000,95000,459000,180000,399000,395000,424900,449000,380000,349000,335000,128000,1230000,486500,360000,715000,199900,89900,899900,1050000,173900,135000,250000,279000,303000,48000,135000,300000,229000,125000,269000,299000,397500,310000,325000,189000,499900,229000,420000,749900,174900,649900,299000,535000,589000,150000,539000,468000,669000,489000,109000,179900,319000,429900,450000,219900,395000,299000,185000,220000,399000,489000,155000,340000,237900,325000,224900,295000,195000,599900,450000,275000,1499000,310000,235000,1175000,325000,292900,469000,274900,124900,189000,70000,399900,540000,639900,109900,375000,334987,329000,460000,254999,599000,99888,1349000,225000,450000,1500000,229900,255000,75000,289000,330000,4950000,310000,364000,959000,249900,2499000,424900,574900,424999,264900,419000,225000,259900,325000,289000,235000,145000,975000,799000,174900,550000,815000,159900,475000,725000,570000,294900,389000,750000,265000,339900,459000,435000,399900,359900,630000,210000,365000,825000,450000,2400000,195000,395000,150000,329000,244900,234900,159000,725000,334900,315000,379000,145000,325000,449900,123667,123667,165000,1254000,109000,123667,123667,250000,315000,123667,123667,179900,579000,170000,273500,260000,675000,465000,4325000,3500000,182500,2500000,1100000,169900,549990,280000,224900,1099000,395000,279000,130000,339900,280000,1200000,145000,465000,275000,350000,250000,249999,430000,225000,675000,1299900,345000,275000,389000,399900,315000,550000,160000,569000,275000,924500,34900,265000,2750000,1350000,4850000,157500,110000,129900,359900,255000,675000,285000,525000,142900,739000,269000],\"type\":\"scatter\"}],                        {\"legend\":{\"bgcolor\":\"#F5F6F9\",\"font\":{\"color\":\"#4D5663\"}},\"paper_bgcolor\":\"#F5F6F9\",\"plot_bgcolor\":\"#F5F6F9\",\"template\":{\"data\":{\"barpolar\":[{\"marker\":{\"line\":{\"color\":\"#E5ECF6\",\"width\":0.5},\"pattern\":{\"fillmode\":\"overlay\",\"size\":10,\"solidity\":0.2}},\"type\":\"barpolar\"}],\"bar\":[{\"error_x\":{\"color\":\"#2a3f5f\"},\"error_y\":{\"color\":\"#2a3f5f\"},\"marker\":{\"line\":{\"color\":\"#E5ECF6\",\"width\":0.5},\"pattern\":{\"fillmode\":\"overlay\",\"size\":10,\"solidity\":0.2}},\"type\":\"bar\"}],\"carpet\":[{\"aaxis\":{\"endlinecolor\":\"#2a3f5f\",\"gridcolor\":\"white\",\"linecolor\":\"white\",\"minorgridcolor\":\"white\",\"startlinecolor\":\"#2a3f5f\"},\"baxis\":{\"endlinecolor\":\"#2a3f5f\",\"gridcolor\":\"white\",\"linecolor\":\"white\",\"minorgridcolor\":\"white\",\"startlinecolor\":\"#2a3f5f\"},\"type\":\"carpet\"}],\"choropleth\":[{\"colorbar\":{\"outlinewidth\":0,\"ticks\":\"\"},\"type\":\"choropleth\"}],\"contourcarpet\":[{\"colorbar\":{\"outlinewidth\":0,\"ticks\":\"\"},\"type\":\"contourcarpet\"}],\"contour\":[{\"colorbar\":{\"outlinewidth\":0,\"ticks\":\"\"},\"colorscale\":[[0.0,\"#0d0887\"],[0.1111111111111111,\"#46039f\"],[0.2222222222222222,\"#7201a8\"],[0.3333333333333333,\"#9c179e\"],[0.4444444444444444,\"#bd3786\"],[0.5555555555555556,\"#d8576b\"],[0.6666666666666666,\"#ed7953\"],[0.7777777777777778,\"#fb9f3a\"],[0.8888888888888888,\"#fdca26\"],[1.0,\"#f0f921\"]],\"type\":\"contour\"}],\"heatmapgl\":[{\"colorbar\":{\"outlinewidth\":0,\"ticks\":\"\"},\"colorscale\":[[0.0,\"#0d0887\"],[0.1111111111111111,\"#46039f\"],[0.2222222222222222,\"#7201a8\"],[0.3333333333333333,\"#9c179e\"],[0.4444444444444444,\"#bd3786\"],[0.5555555555555556,\"#d8576b\"],[0.6666666666666666,\"#ed7953\"],[0.7777777777777778,\"#fb9f3a\"],[0.8888888888888888,\"#fdca26\"],[1.0,\"#f0f921\"]],\"type\":\"heatmapgl\"}],\"heatmap\":[{\"colorbar\":{\"outlinewidth\":0,\"ticks\":\"\"},\"colorscale\":[[0.0,\"#0d0887\"],[0.1111111111111111,\"#46039f\"],[0.2222222222222222,\"#7201a8\"],[0.3333333333333333,\"#9c179e\"],[0.4444444444444444,\"#bd3786\"],[0.5555555555555556,\"#d8576b\"],[0.6666666666666666,\"#ed7953\"],[0.7777777777777778,\"#fb9f3a\"],[0.8888888888888888,\"#fdca26\"],[1.0,\"#f0f921\"]],\"type\":\"heatmap\"}],\"histogram2dcontour\":[{\"colorbar\":{\"outlinewidth\":0,\"ticks\":\"\"},\"colorscale\":[[0.0,\"#0d0887\"],[0.1111111111111111,\"#46039f\"],[0.2222222222222222,\"#7201a8\"],[0.3333333333333333,\"#9c179e\"],[0.4444444444444444,\"#bd3786\"],[0.5555555555555556,\"#d8576b\"],[0.6666666666666666,\"#ed7953\"],[0.7777777777777778,\"#fb9f3a\"],[0.8888888888888888,\"#fdca26\"],[1.0,\"#f0f921\"]],\"type\":\"histogram2dcontour\"}],\"histogram2d\":[{\"colorbar\":{\"outlinewidth\":0,\"ticks\":\"\"},\"colorscale\":[[0.0,\"#0d0887\"],[0.1111111111111111,\"#46039f\"],[0.2222222222222222,\"#7201a8\"],[0.3333333333333333,\"#9c179e\"],[0.4444444444444444,\"#bd3786\"],[0.5555555555555556,\"#d8576b\"],[0.6666666666666666,\"#ed7953\"],[0.7777777777777778,\"#fb9f3a\"],[0.8888888888888888,\"#fdca26\"],[1.0,\"#f0f921\"]],\"type\":\"histogram2d\"}],\"histogram\":[{\"marker\":{\"pattern\":{\"fillmode\":\"overlay\",\"size\":10,\"solidity\":0.2}},\"type\":\"histogram\"}],\"mesh3d\":[{\"colorbar\":{\"outlinewidth\":0,\"ticks\":\"\"},\"type\":\"mesh3d\"}],\"parcoords\":[{\"line\":{\"colorbar\":{\"outlinewidth\":0,\"ticks\":\"\"}},\"type\":\"parcoords\"}],\"pie\":[{\"automargin\":true,\"type\":\"pie\"}],\"scatter3d\":[{\"line\":{\"colorbar\":{\"outlinewidth\":0,\"ticks\":\"\"}},\"marker\":{\"colorbar\":{\"outlinewidth\":0,\"ticks\":\"\"}},\"type\":\"scatter3d\"}],\"scattercarpet\":[{\"marker\":{\"colorbar\":{\"outlinewidth\":0,\"ticks\":\"\"}},\"type\":\"scattercarpet\"}],\"scattergeo\":[{\"marker\":{\"colorbar\":{\"outlinewidth\":0,\"ticks\":\"\"}},\"type\":\"scattergeo\"}],\"scattergl\":[{\"marker\":{\"colorbar\":{\"outlinewidth\":0,\"ticks\":\"\"}},\"type\":\"scattergl\"}],\"scattermapbox\":[{\"marker\":{\"colorbar\":{\"outlinewidth\":0,\"ticks\":\"\"}},\"type\":\"scattermapbox\"}],\"scatterpolargl\":[{\"marker\":{\"colorbar\":{\"outlinewidth\":0,\"ticks\":\"\"}},\"type\":\"scatterpolargl\"}],\"scatterpolar\":[{\"marker\":{\"colorbar\":{\"outlinewidth\":0,\"ticks\":\"\"}},\"type\":\"scatterpolar\"}],\"scatter\":[{\"fillpattern\":{\"fillmode\":\"overlay\",\"size\":10,\"solidity\":0.2},\"type\":\"scatter\"}],\"scatterternary\":[{\"marker\":{\"colorbar\":{\"outlinewidth\":0,\"ticks\":\"\"}},\"type\":\"scatterternary\"}],\"surface\":[{\"colorbar\":{\"outlinewidth\":0,\"ticks\":\"\"},\"colorscale\":[[0.0,\"#0d0887\"],[0.1111111111111111,\"#46039f\"],[0.2222222222222222,\"#7201a8\"],[0.3333333333333333,\"#9c179e\"],[0.4444444444444444,\"#bd3786\"],[0.5555555555555556,\"#d8576b\"],[0.6666666666666666,\"#ed7953\"],[0.7777777777777778,\"#fb9f3a\"],[0.8888888888888888,\"#fdca26\"],[1.0,\"#f0f921\"]],\"type\":\"surface\"}],\"table\":[{\"cells\":{\"fill\":{\"color\":\"#EBF0F8\"},\"line\":{\"color\":\"white\"}},\"header\":{\"fill\":{\"color\":\"#C8D4E3\"},\"line\":{\"color\":\"white\"}},\"type\":\"table\"}]},\"layout\":{\"annotationdefaults\":{\"arrowcolor\":\"#2a3f5f\",\"arrowhead\":0,\"arrowwidth\":1},\"autotypenumbers\":\"strict\",\"coloraxis\":{\"colorbar\":{\"outlinewidth\":0,\"ticks\":\"\"}},\"colorscale\":{\"diverging\":[[0,\"#8e0152\"],[0.1,\"#c51b7d\"],[0.2,\"#de77ae\"],[0.3,\"#f1b6da\"],[0.4,\"#fde0ef\"],[0.5,\"#f7f7f7\"],[0.6,\"#e6f5d0\"],[0.7,\"#b8e186\"],[0.8,\"#7fbc41\"],[0.9,\"#4d9221\"],[1,\"#276419\"]],\"sequential\":[[0.0,\"#0d0887\"],[0.1111111111111111,\"#46039f\"],[0.2222222222222222,\"#7201a8\"],[0.3333333333333333,\"#9c179e\"],[0.4444444444444444,\"#bd3786\"],[0.5555555555555556,\"#d8576b\"],[0.6666666666666666,\"#ed7953\"],[0.7777777777777778,\"#fb9f3a\"],[0.8888888888888888,\"#fdca26\"],[1.0,\"#f0f921\"]],\"sequentialminus\":[[0.0,\"#0d0887\"],[0.1111111111111111,\"#46039f\"],[0.2222222222222222,\"#7201a8\"],[0.3333333333333333,\"#9c179e\"],[0.4444444444444444,\"#bd3786\"],[0.5555555555555556,\"#d8576b\"],[0.6666666666666666,\"#ed7953\"],[0.7777777777777778,\"#fb9f3a\"],[0.8888888888888888,\"#fdca26\"],[1.0,\"#f0f921\"]]},\"colorway\":[\"#636efa\",\"#EF553B\",\"#00cc96\",\"#ab63fa\",\"#FFA15A\",\"#19d3f3\",\"#FF6692\",\"#B6E880\",\"#FF97FF\",\"#FECB52\"],\"font\":{\"color\":\"#2a3f5f\"},\"geo\":{\"bgcolor\":\"white\",\"lakecolor\":\"white\",\"landcolor\":\"#E5ECF6\",\"showlakes\":true,\"showland\":true,\"subunitcolor\":\"white\"},\"hoverlabel\":{\"align\":\"left\"},\"hovermode\":\"closest\",\"mapbox\":{\"style\":\"light\"},\"paper_bgcolor\":\"white\",\"plot_bgcolor\":\"#E5ECF6\",\"polar\":{\"angularaxis\":{\"gridcolor\":\"white\",\"linecolor\":\"white\",\"ticks\":\"\"},\"bgcolor\":\"#E5ECF6\",\"radialaxis\":{\"gridcolor\":\"white\",\"linecolor\":\"white\",\"ticks\":\"\"}},\"scene\":{\"xaxis\":{\"backgroundcolor\":\"#E5ECF6\",\"gridcolor\":\"white\",\"gridwidth\":2,\"linecolor\":\"white\",\"showbackground\":true,\"ticks\":\"\",\"zerolinecolor\":\"white\"},\"yaxis\":{\"backgroundcolor\":\"#E5ECF6\",\"gridcolor\":\"white\",\"gridwidth\":2,\"linecolor\":\"white\",\"showbackground\":true,\"ticks\":\"\",\"zerolinecolor\":\"white\"},\"zaxis\":{\"backgroundcolor\":\"#E5ECF6\",\"gridcolor\":\"white\",\"gridwidth\":2,\"linecolor\":\"white\",\"showbackground\":true,\"ticks\":\"\",\"zerolinecolor\":\"white\"}},\"shapedefaults\":{\"line\":{\"color\":\"#2a3f5f\"}},\"ternary\":{\"aaxis\":{\"gridcolor\":\"white\",\"linecolor\":\"white\",\"ticks\":\"\"},\"baxis\":{\"gridcolor\":\"white\",\"linecolor\":\"white\",\"ticks\":\"\"},\"bgcolor\":\"#E5ECF6\",\"caxis\":{\"gridcolor\":\"white\",\"linecolor\":\"white\",\"ticks\":\"\"}},\"title\":{\"x\":0.05},\"xaxis\":{\"automargin\":true,\"gridcolor\":\"white\",\"linecolor\":\"white\",\"ticks\":\"\",\"title\":{\"standoff\":15},\"zerolinecolor\":\"white\",\"zerolinewidth\":2},\"yaxis\":{\"automargin\":true,\"gridcolor\":\"white\",\"linecolor\":\"white\",\"ticks\":\"\",\"title\":{\"standoff\":15},\"zerolinecolor\":\"white\",\"zerolinewidth\":2}}},\"title\":{\"font\":{\"color\":\"#4D5663\"}},\"xaxis\":{\"gridcolor\":\"#E1E5ED\",\"showgrid\":true,\"tickfont\":{\"color\":\"#4D5663\"},\"title\":{\"font\":{\"color\":\"#4D5663\"},\"text\":\"Sqft\"},\"zerolinecolor\":\"#E1E5ED\"},\"yaxis\":{\"gridcolor\":\"#E1E5ED\",\"showgrid\":true,\"tickfont\":{\"color\":\"#4D5663\"},\"title\":{\"font\":{\"color\":\"#4D5663\"},\"text\":\"Price\"},\"zerolinecolor\":\"#E1E5ED\"}},                        {\"showLink\": true, \"linkText\": \"Export to plot.ly\", \"plotlyServerURL\": \"https://plot.ly\", \"responsive\": true}                    ).then(function(){\n",
       "                            \n",
       "var gd = document.getElementById('71f320a6-7139-449d-9adc-9fa3da498794');\n",
       "var x = new MutationObserver(function (mutations, observer) {{\n",
       "        var display = window.getComputedStyle(gd).display;\n",
       "        if (!display || display === 'none') {{\n",
       "            console.log([gd, 'removed!']);\n",
       "            Plotly.purge(gd);\n",
       "            observer.disconnect();\n",
       "        }}\n",
       "}});\n",
       "\n",
       "// Listen for the removal of the full notebook cells\n",
       "var notebookContainer = gd.closest('#notebook-container');\n",
       "if (notebookContainer) {{\n",
       "    x.observe(notebookContainer, {childList: true});\n",
       "}}\n",
       "\n",
       "// Listen for the clearing of the current output cell\n",
       "var outputEl = gd.closest('.output');\n",
       "if (outputEl) {{\n",
       "    x.observe(outputEl, {childList: true});\n",
       "}}\n",
       "\n",
       "                        })                };                });            </script>        </div>"
      ]
     },
     "metadata": {},
     "output_type": "display_data"
    }
   ],
   "source": [
    "df.iplot(kind = \"scatter\", x = \"Sqft\", y = \"Price\", mode = \"markers\", xTitle = \"Sqft\", yTitle = \"Price\")"
   ]
  },
  {
   "cell_type": "code",
   "execution_count": 7,
   "id": "b5a31b18",
   "metadata": {},
   "outputs": [
    {
     "data": {
      "application/vnd.plotly.v1+json": {
       "config": {
        "linkText": "Export to plot.ly",
        "plotlyServerURL": "https://plot.ly",
        "showLink": true
       },
       "data": [
        {
         "line": {
          "color": "rgba(255, 153, 51, 1.0)",
          "dash": "solid",
          "shape": "linear",
          "width": 1.3
         },
         "marker": {
          "size": 12,
          "symbol": "circle"
         },
         "mode": "markers",
         "name": "Price",
         "text": "",
         "type": "scatter",
         "x": [
          3,
          6,
          1,
          5,
          1,
          2,
          0,
          2,
          2,
          5,
          3,
          3,
          7,
          4,
          3,
          4,
          6,
          5,
          1,
          3,
          4,
          2,
          1,
          1,
          3,
          4,
          4,
          5,
          2,
          1,
          2,
          2,
          5,
          2,
          1,
          1,
          3,
          5,
          3,
          3,
          3,
          3,
          2,
          4,
          4,
          4,
          7,
          3,
          1,
          2,
          2,
          4,
          8,
          3,
          1,
          3,
          3,
          2,
          1,
          4,
          2,
          3,
          2,
          3,
          2,
          3,
          2,
          3,
          3,
          1,
          3,
          5,
          5,
          3,
          5,
          5,
          3,
          2,
          1,
          3,
          3,
          2,
          2,
          6,
          3,
          1,
          1,
          2,
          4,
          2,
          1,
          2,
          3,
          4,
          1,
          2,
          4,
          3,
          3,
          2,
          6,
          3,
          3,
          2,
          2,
          2,
          6,
          3,
          1,
          3,
          9,
          3,
          2,
          3,
          9,
          2,
          4,
          3,
          3,
          2,
          6,
          2,
          10,
          4,
          9,
          1,
          4,
          2,
          1,
          5,
          3,
          9,
          7,
          1,
          4,
          2,
          6,
          3,
          3,
          1,
          4,
          3,
          4,
          3,
          3,
          4,
          2,
          4,
          2,
          9,
          2,
          4,
          3,
          4,
          1,
          2,
          5,
          3,
          3,
          2,
          2,
          2,
          4,
          5,
          4,
          4,
          5,
          3,
          3,
          2,
          2,
          3,
          4,
          2,
          4,
          5,
          1,
          4,
          12,
          3,
          3,
          1,
          6,
          3,
          2,
          5,
          5,
          4,
          8,
          1,
          3,
          6,
          6,
          4,
          5,
          9,
          4,
          0,
          1,
          2,
          2,
          2,
          2,
          6,
          2,
          4,
          1,
          1,
          3,
          4,
          1,
          2,
          4,
          5,
          3,
          3,
          2,
          2,
          2,
          3,
          4,
          2,
          1,
          3,
          1,
          2,
          4,
          3,
          3,
          4,
          5,
          1,
          3,
          4,
          2,
          3,
          6,
          2,
          2,
          1,
          3,
          2,
          3,
          8,
          3,
          2,
          2,
          3,
          4,
          5,
          2,
          3,
          5,
          2,
          2,
          7,
          3,
          1,
          2,
          2,
          2,
          1,
          1,
          1,
          1,
          1,
          1,
          2,
          1,
          1,
          3,
          2,
          6,
          3,
          1,
          2,
          3,
          3,
          2,
          1,
          8,
          4,
          1,
          2,
          2,
          3,
          9,
          4,
          1,
          5,
          1,
          2,
          6,
          2,
          1,
          1,
          2,
          2,
          2,
          1,
          3,
          2,
          3,
          3,
          6,
          5,
          2,
          3,
          1,
          3,
          2,
          2,
          4,
          2,
          0,
          4,
          6,
          2,
          4,
          3,
          5,
          6,
          2,
          6,
          1,
          1,
          4,
          5,
          3,
          3,
          2,
          5,
          4,
          3,
          5,
          4,
          2,
          4,
          1,
          12,
          1,
          1,
          2,
          4,
          3,
          1,
          4,
          2,
          2,
          5,
          3,
          1,
          4,
          2,
          2,
          4,
          3,
          3,
          1,
          1,
          9,
          4,
          1,
          2,
          6,
          3,
          6,
          4,
          2,
          2,
          4,
          1,
          6,
          3,
          4,
          3,
          5,
          5,
          2,
          2,
          2,
          2,
          2,
          2,
          4,
          7,
          2,
          3,
          2,
          2,
          2,
          2,
          3,
          5,
          4,
          4,
          3,
          1,
          2,
          4,
          1,
          1,
          3,
          3,
          2,
          4,
          6,
          4,
          2,
          8,
          2,
          6,
          5,
          1,
          3,
          5,
          4,
          4,
          2,
          2,
          1,
          3,
          4,
          1,
          7,
          2,
          4,
          1,
          2,
          9,
          3,
          5,
          4,
          4,
          3,
          1,
          5,
          3,
          2,
          3,
          2,
          1,
          1,
          6,
          1,
          4,
          5,
          3,
          2,
          2,
          3,
          5,
          6,
          5,
          1,
          9,
          4,
          1,
          5,
          1,
          4,
          2,
          3,
          3,
          5,
          2,
          5,
          1,
          4,
          5,
          5,
          4,
          2,
          2,
          2,
          1,
          3,
          4,
          2,
          6,
          1,
          2,
          1,
          3,
          3,
          5,
          1,
          4,
          3,
          3,
          2,
          2,
          2,
          1,
          3,
          3,
          2,
          5,
          4,
          2,
          1,
          3,
          1,
          2,
          5,
          2,
          7,
          1,
          5,
          3,
          4,
          5,
          4,
          6,
          8,
          4,
          6,
          4,
          1,
          7,
          3,
          1,
          1,
          2,
          2,
          2,
          8,
          8,
          3,
          5,
          12,
          8,
          7,
          4,
          3,
          7,
          11,
          1,
          2,
          2,
          2,
          2,
          5,
          2,
          3,
          7,
          2,
          4,
          4,
          2,
          2,
          4,
          5,
          0,
          2,
          3,
          0,
          5,
          6,
          8,
          1,
          2,
          3,
          2,
          0,
          2,
          3,
          3,
          3,
          3,
          2,
          1,
          5,
          4,
          4,
          2,
          1,
          3,
          1,
          3,
          3,
          1,
          5,
          4,
          5,
          1,
          2,
          1,
          3,
          3,
          3,
          1,
          2,
          3,
          3
         ],
         "y": [
          3200000,
          274900,
          2095000,
          249000,
          474900,
          87900,
          899000,
          264900,
          4950000,
          819999,
          285000,
          289000,
          1390000,
          672000,
          440000,
          259900,
          1750000,
          169500,
          675000,
          35000,
          575000,
          315000,
          260000,
          600000,
          254900,
          429000,
          84900,
          200000,
          197500,
          99500,
          23000,
          1949900,
          155900,
          263900,
          325000,
          419000,
          639900,
          385000,
          139900,
          549900,
          535000,
          299900,
          2099000,
          1499000,
          1375000,
          799000,
          1099000,
          330000,
          225000,
          459900,
          59900,
          399900,
          424900,
          175000,
          340000,
          224900,
          409000,
          270000,
          1699000,
          385000,
          599000,
          279999,
          1195000,
          28000,
          625000,
          1200000,
          1295000,
          1450000,
          138500,
          449900,
          1400000,
          229000,
          265000,
          425000,
          229000,
          265000,
          425000,
          239900,
          549900,
          189900,
          494000,
          500000,
          329899,
          689000,
          499000,
          120000,
          444900,
          950000,
          375000,
          305000,
          282800,
          349900,
          299900,
          299900,
          1050000,
          179900,
          1280000,
          659000,
          1049000,
          364900,
          2995000,
          380000,
          400000,
          169900,
          249900,
          140000,
          219000,
          229000,
          259000,
          1300000,
          1300000,
          149900,
          569000,
          414900,
          695000,
          475000,
          799900,
          839900,
          849000,
          439250,
          500000,
          949000,
          380000,
          385000,
          264900,
          234000,
          449000,
          299000,
          1050000,
          515000,
          629500,
          675000,
          145000,
          599900,
          234500,
          49000,
          899000,
          160000,
          294995,
          600000,
          349000,
          449000,
          645000,
          675000,
          15000,
          300000,
          229900,
          445000,
          425000,
          445000,
          419900,
          364900,
          245000,
          100000,
          312500,
          375000,
          1999000,
          299900,
          325000,
          325000,
          575000,
          1699000,
          349000,
          315000,
          949000,
          305000,
          240000,
          899000,
          170000,
          420000,
          339900,
          319900,
          189000,
          69900,
          349000,
          279000,
          249900,
          200000,
          595000,
          550000,
          182500,
          120000,
          171000,
          325000,
          169900,
          614000,
          589000,
          374999,
          165000,
          644900,
          1300000,
          240000,
          269000,
          2995000,
          1250000,
          549900,
          149900,
          220000,
          775000,
          334900,
          199000,
          145000,
          329900,
          420000,
          359900,
          195000,
          209000,
          260000,
          879000,
          315000,
          675000,
          1585000,
          169000,
          200000,
          169999,
          285000,
          457900,
          183000,
          239000,
          240000,
          239900,
          199900,
          1850000,
          150000,
          340000,
          779000,
          775000,
          469613,
          255000,
          779000,
          249900,
          167250,
          225000,
          345000,
          3190000,
          1200000,
          199900,
          339000,
          265000,
          685000,
          690000,
          1200000,
          729900,
          995000,
          499900,
          364500,
          795000,
          1125000,
          164300,
          399000,
          1499000,
          849000,
          429900,
          120000,
          619000,
          249900,
          149000,
          235000,
          499000,
          269900,
          199900,
          150000,
          140000,
          260000,
          159900,
          190000,
          379900,
          270000,
          209900,
          615000,
          900000,
          240000,
          999995,
          130000,
          230000,
          60000,
          825000,
          359000,
          249500,
          600000,
          749900,
          215000,
          300000,
          160000,
          385000,
          280000,
          900000,
          299999,
          2395000,
          320000,
          349900,
          550000,
          163000,
          245000,
          325000,
          440000,
          1895000,
          370000,
          400000,
          600000,
          449000,
          1029000,
          299900,
          9999990,
          259900,
          437500,
          799000,
          399000,
          525000,
          310000,
          234900,
          349900,
          715000,
          280000,
          187500,
          599000,
          679900,
          3850000,
          1175000,
          775000,
          575000,
          179000,
          1325000,
          320000,
          274500,
          850000,
          239900,
          2900000,
          599000,
          444999,
          250000,
          1399500,
          299000,
          2395000,
          349900,
          185000,
          324000,
          210000,
          850000,
          150000,
          279000,
          340000,
          1800000,
          125000,
          269999,
          699000,
          289999,
          275000,
          324873,
          664000,
          274500,
          399900,
          249500,
          315000,
          899500,
          254900,
          785000,
          479500,
          157000,
          729900,
          1200000,
          220000,
          569000,
          354900,
          135000,
          1150000,
          685000,
          375000,
          95000,
          459000,
          180000,
          399000,
          395000,
          424900,
          449000,
          380000,
          349000,
          335000,
          128000,
          1230000,
          486500,
          360000,
          715000,
          199900,
          89900,
          899900,
          1050000,
          173900,
          135000,
          250000,
          279000,
          303000,
          48000,
          135000,
          300000,
          229000,
          125000,
          269000,
          299000,
          397500,
          310000,
          325000,
          189000,
          499900,
          229000,
          420000,
          749900,
          174900,
          649900,
          299000,
          535000,
          589000,
          150000,
          539000,
          468000,
          669000,
          489000,
          109000,
          179900,
          319000,
          429900,
          450000,
          219900,
          395000,
          299000,
          185000,
          220000,
          399000,
          489000,
          155000,
          340000,
          237900,
          325000,
          224900,
          295000,
          195000,
          599900,
          450000,
          275000,
          1499000,
          310000,
          235000,
          1175000,
          325000,
          292900,
          469000,
          274900,
          124900,
          189000,
          70000,
          399900,
          540000,
          639900,
          109900,
          375000,
          334987,
          329000,
          460000,
          254999,
          599000,
          99888,
          1349000,
          225000,
          450000,
          1500000,
          229900,
          255000,
          75000,
          289000,
          330000,
          4950000,
          310000,
          364000,
          959000,
          249900,
          2499000,
          424900,
          574900,
          424999,
          264900,
          419000,
          225000,
          259900,
          325000,
          289000,
          235000,
          145000,
          975000,
          799000,
          174900,
          550000,
          815000,
          159900,
          475000,
          725000,
          570000,
          294900,
          389000,
          750000,
          265000,
          339900,
          459000,
          435000,
          399900,
          359900,
          630000,
          210000,
          365000,
          825000,
          450000,
          2400000,
          195000,
          395000,
          150000,
          329000,
          244900,
          234900,
          159000,
          725000,
          334900,
          315000,
          379000,
          145000,
          325000,
          449900,
          123667,
          123667,
          165000,
          1254000,
          109000,
          123667,
          123667,
          250000,
          315000,
          123667,
          123667,
          179900,
          579000,
          170000,
          273500,
          260000,
          675000,
          465000,
          4325000,
          3500000,
          182500,
          2500000,
          1100000,
          169900,
          549990,
          280000,
          224900,
          1099000,
          395000,
          279000,
          130000,
          339900,
          280000,
          1200000,
          145000,
          465000,
          275000,
          350000,
          250000,
          249999,
          430000,
          225000,
          675000,
          1299900,
          345000,
          275000,
          389000,
          399900,
          315000,
          550000,
          160000,
          569000,
          275000,
          924500,
          34900,
          265000,
          2750000,
          1350000,
          4850000,
          157500,
          110000,
          129900,
          359900,
          255000,
          675000,
          285000,
          525000,
          142900,
          739000,
          269000
         ]
        }
       ],
       "layout": {
        "legend": {
         "bgcolor": "#F5F6F9",
         "font": {
          "color": "#4D5663"
         }
        },
        "paper_bgcolor": "#F5F6F9",
        "plot_bgcolor": "#F5F6F9",
        "template": {
         "data": {
          "bar": [
           {
            "error_x": {
             "color": "#2a3f5f"
            },
            "error_y": {
             "color": "#2a3f5f"
            },
            "marker": {
             "line": {
              "color": "#E5ECF6",
              "width": 0.5
             },
             "pattern": {
              "fillmode": "overlay",
              "size": 10,
              "solidity": 0.2
             }
            },
            "type": "bar"
           }
          ],
          "barpolar": [
           {
            "marker": {
             "line": {
              "color": "#E5ECF6",
              "width": 0.5
             },
             "pattern": {
              "fillmode": "overlay",
              "size": 10,
              "solidity": 0.2
             }
            },
            "type": "barpolar"
           }
          ],
          "carpet": [
           {
            "aaxis": {
             "endlinecolor": "#2a3f5f",
             "gridcolor": "white",
             "linecolor": "white",
             "minorgridcolor": "white",
             "startlinecolor": "#2a3f5f"
            },
            "baxis": {
             "endlinecolor": "#2a3f5f",
             "gridcolor": "white",
             "linecolor": "white",
             "minorgridcolor": "white",
             "startlinecolor": "#2a3f5f"
            },
            "type": "carpet"
           }
          ],
          "choropleth": [
           {
            "colorbar": {
             "outlinewidth": 0,
             "ticks": ""
            },
            "type": "choropleth"
           }
          ],
          "contour": [
           {
            "colorbar": {
             "outlinewidth": 0,
             "ticks": ""
            },
            "colorscale": [
             [
              0,
              "#0d0887"
             ],
             [
              0.1111111111111111,
              "#46039f"
             ],
             [
              0.2222222222222222,
              "#7201a8"
             ],
             [
              0.3333333333333333,
              "#9c179e"
             ],
             [
              0.4444444444444444,
              "#bd3786"
             ],
             [
              0.5555555555555556,
              "#d8576b"
             ],
             [
              0.6666666666666666,
              "#ed7953"
             ],
             [
              0.7777777777777778,
              "#fb9f3a"
             ],
             [
              0.8888888888888888,
              "#fdca26"
             ],
             [
              1,
              "#f0f921"
             ]
            ],
            "type": "contour"
           }
          ],
          "contourcarpet": [
           {
            "colorbar": {
             "outlinewidth": 0,
             "ticks": ""
            },
            "type": "contourcarpet"
           }
          ],
          "heatmap": [
           {
            "colorbar": {
             "outlinewidth": 0,
             "ticks": ""
            },
            "colorscale": [
             [
              0,
              "#0d0887"
             ],
             [
              0.1111111111111111,
              "#46039f"
             ],
             [
              0.2222222222222222,
              "#7201a8"
             ],
             [
              0.3333333333333333,
              "#9c179e"
             ],
             [
              0.4444444444444444,
              "#bd3786"
             ],
             [
              0.5555555555555556,
              "#d8576b"
             ],
             [
              0.6666666666666666,
              "#ed7953"
             ],
             [
              0.7777777777777778,
              "#fb9f3a"
             ],
             [
              0.8888888888888888,
              "#fdca26"
             ],
             [
              1,
              "#f0f921"
             ]
            ],
            "type": "heatmap"
           }
          ],
          "heatmapgl": [
           {
            "colorbar": {
             "outlinewidth": 0,
             "ticks": ""
            },
            "colorscale": [
             [
              0,
              "#0d0887"
             ],
             [
              0.1111111111111111,
              "#46039f"
             ],
             [
              0.2222222222222222,
              "#7201a8"
             ],
             [
              0.3333333333333333,
              "#9c179e"
             ],
             [
              0.4444444444444444,
              "#bd3786"
             ],
             [
              0.5555555555555556,
              "#d8576b"
             ],
             [
              0.6666666666666666,
              "#ed7953"
             ],
             [
              0.7777777777777778,
              "#fb9f3a"
             ],
             [
              0.8888888888888888,
              "#fdca26"
             ],
             [
              1,
              "#f0f921"
             ]
            ],
            "type": "heatmapgl"
           }
          ],
          "histogram": [
           {
            "marker": {
             "pattern": {
              "fillmode": "overlay",
              "size": 10,
              "solidity": 0.2
             }
            },
            "type": "histogram"
           }
          ],
          "histogram2d": [
           {
            "colorbar": {
             "outlinewidth": 0,
             "ticks": ""
            },
            "colorscale": [
             [
              0,
              "#0d0887"
             ],
             [
              0.1111111111111111,
              "#46039f"
             ],
             [
              0.2222222222222222,
              "#7201a8"
             ],
             [
              0.3333333333333333,
              "#9c179e"
             ],
             [
              0.4444444444444444,
              "#bd3786"
             ],
             [
              0.5555555555555556,
              "#d8576b"
             ],
             [
              0.6666666666666666,
              "#ed7953"
             ],
             [
              0.7777777777777778,
              "#fb9f3a"
             ],
             [
              0.8888888888888888,
              "#fdca26"
             ],
             [
              1,
              "#f0f921"
             ]
            ],
            "type": "histogram2d"
           }
          ],
          "histogram2dcontour": [
           {
            "colorbar": {
             "outlinewidth": 0,
             "ticks": ""
            },
            "colorscale": [
             [
              0,
              "#0d0887"
             ],
             [
              0.1111111111111111,
              "#46039f"
             ],
             [
              0.2222222222222222,
              "#7201a8"
             ],
             [
              0.3333333333333333,
              "#9c179e"
             ],
             [
              0.4444444444444444,
              "#bd3786"
             ],
             [
              0.5555555555555556,
              "#d8576b"
             ],
             [
              0.6666666666666666,
              "#ed7953"
             ],
             [
              0.7777777777777778,
              "#fb9f3a"
             ],
             [
              0.8888888888888888,
              "#fdca26"
             ],
             [
              1,
              "#f0f921"
             ]
            ],
            "type": "histogram2dcontour"
           }
          ],
          "mesh3d": [
           {
            "colorbar": {
             "outlinewidth": 0,
             "ticks": ""
            },
            "type": "mesh3d"
           }
          ],
          "parcoords": [
           {
            "line": {
             "colorbar": {
              "outlinewidth": 0,
              "ticks": ""
             }
            },
            "type": "parcoords"
           }
          ],
          "pie": [
           {
            "automargin": true,
            "type": "pie"
           }
          ],
          "scatter": [
           {
            "fillpattern": {
             "fillmode": "overlay",
             "size": 10,
             "solidity": 0.2
            },
            "type": "scatter"
           }
          ],
          "scatter3d": [
           {
            "line": {
             "colorbar": {
              "outlinewidth": 0,
              "ticks": ""
             }
            },
            "marker": {
             "colorbar": {
              "outlinewidth": 0,
              "ticks": ""
             }
            },
            "type": "scatter3d"
           }
          ],
          "scattercarpet": [
           {
            "marker": {
             "colorbar": {
              "outlinewidth": 0,
              "ticks": ""
             }
            },
            "type": "scattercarpet"
           }
          ],
          "scattergeo": [
           {
            "marker": {
             "colorbar": {
              "outlinewidth": 0,
              "ticks": ""
             }
            },
            "type": "scattergeo"
           }
          ],
          "scattergl": [
           {
            "marker": {
             "colorbar": {
              "outlinewidth": 0,
              "ticks": ""
             }
            },
            "type": "scattergl"
           }
          ],
          "scattermapbox": [
           {
            "marker": {
             "colorbar": {
              "outlinewidth": 0,
              "ticks": ""
             }
            },
            "type": "scattermapbox"
           }
          ],
          "scatterpolar": [
           {
            "marker": {
             "colorbar": {
              "outlinewidth": 0,
              "ticks": ""
             }
            },
            "type": "scatterpolar"
           }
          ],
          "scatterpolargl": [
           {
            "marker": {
             "colorbar": {
              "outlinewidth": 0,
              "ticks": ""
             }
            },
            "type": "scatterpolargl"
           }
          ],
          "scatterternary": [
           {
            "marker": {
             "colorbar": {
              "outlinewidth": 0,
              "ticks": ""
             }
            },
            "type": "scatterternary"
           }
          ],
          "surface": [
           {
            "colorbar": {
             "outlinewidth": 0,
             "ticks": ""
            },
            "colorscale": [
             [
              0,
              "#0d0887"
             ],
             [
              0.1111111111111111,
              "#46039f"
             ],
             [
              0.2222222222222222,
              "#7201a8"
             ],
             [
              0.3333333333333333,
              "#9c179e"
             ],
             [
              0.4444444444444444,
              "#bd3786"
             ],
             [
              0.5555555555555556,
              "#d8576b"
             ],
             [
              0.6666666666666666,
              "#ed7953"
             ],
             [
              0.7777777777777778,
              "#fb9f3a"
             ],
             [
              0.8888888888888888,
              "#fdca26"
             ],
             [
              1,
              "#f0f921"
             ]
            ],
            "type": "surface"
           }
          ],
          "table": [
           {
            "cells": {
             "fill": {
              "color": "#EBF0F8"
             },
             "line": {
              "color": "white"
             }
            },
            "header": {
             "fill": {
              "color": "#C8D4E3"
             },
             "line": {
              "color": "white"
             }
            },
            "type": "table"
           }
          ]
         },
         "layout": {
          "annotationdefaults": {
           "arrowcolor": "#2a3f5f",
           "arrowhead": 0,
           "arrowwidth": 1
          },
          "autotypenumbers": "strict",
          "coloraxis": {
           "colorbar": {
            "outlinewidth": 0,
            "ticks": ""
           }
          },
          "colorscale": {
           "diverging": [
            [
             0,
             "#8e0152"
            ],
            [
             0.1,
             "#c51b7d"
            ],
            [
             0.2,
             "#de77ae"
            ],
            [
             0.3,
             "#f1b6da"
            ],
            [
             0.4,
             "#fde0ef"
            ],
            [
             0.5,
             "#f7f7f7"
            ],
            [
             0.6,
             "#e6f5d0"
            ],
            [
             0.7,
             "#b8e186"
            ],
            [
             0.8,
             "#7fbc41"
            ],
            [
             0.9,
             "#4d9221"
            ],
            [
             1,
             "#276419"
            ]
           ],
           "sequential": [
            [
             0,
             "#0d0887"
            ],
            [
             0.1111111111111111,
             "#46039f"
            ],
            [
             0.2222222222222222,
             "#7201a8"
            ],
            [
             0.3333333333333333,
             "#9c179e"
            ],
            [
             0.4444444444444444,
             "#bd3786"
            ],
            [
             0.5555555555555556,
             "#d8576b"
            ],
            [
             0.6666666666666666,
             "#ed7953"
            ],
            [
             0.7777777777777778,
             "#fb9f3a"
            ],
            [
             0.8888888888888888,
             "#fdca26"
            ],
            [
             1,
             "#f0f921"
            ]
           ],
           "sequentialminus": [
            [
             0,
             "#0d0887"
            ],
            [
             0.1111111111111111,
             "#46039f"
            ],
            [
             0.2222222222222222,
             "#7201a8"
            ],
            [
             0.3333333333333333,
             "#9c179e"
            ],
            [
             0.4444444444444444,
             "#bd3786"
            ],
            [
             0.5555555555555556,
             "#d8576b"
            ],
            [
             0.6666666666666666,
             "#ed7953"
            ],
            [
             0.7777777777777778,
             "#fb9f3a"
            ],
            [
             0.8888888888888888,
             "#fdca26"
            ],
            [
             1,
             "#f0f921"
            ]
           ]
          },
          "colorway": [
           "#636efa",
           "#EF553B",
           "#00cc96",
           "#ab63fa",
           "#FFA15A",
           "#19d3f3",
           "#FF6692",
           "#B6E880",
           "#FF97FF",
           "#FECB52"
          ],
          "font": {
           "color": "#2a3f5f"
          },
          "geo": {
           "bgcolor": "white",
           "lakecolor": "white",
           "landcolor": "#E5ECF6",
           "showlakes": true,
           "showland": true,
           "subunitcolor": "white"
          },
          "hoverlabel": {
           "align": "left"
          },
          "hovermode": "closest",
          "mapbox": {
           "style": "light"
          },
          "paper_bgcolor": "white",
          "plot_bgcolor": "#E5ECF6",
          "polar": {
           "angularaxis": {
            "gridcolor": "white",
            "linecolor": "white",
            "ticks": ""
           },
           "bgcolor": "#E5ECF6",
           "radialaxis": {
            "gridcolor": "white",
            "linecolor": "white",
            "ticks": ""
           }
          },
          "scene": {
           "xaxis": {
            "backgroundcolor": "#E5ECF6",
            "gridcolor": "white",
            "gridwidth": 2,
            "linecolor": "white",
            "showbackground": true,
            "ticks": "",
            "zerolinecolor": "white"
           },
           "yaxis": {
            "backgroundcolor": "#E5ECF6",
            "gridcolor": "white",
            "gridwidth": 2,
            "linecolor": "white",
            "showbackground": true,
            "ticks": "",
            "zerolinecolor": "white"
           },
           "zaxis": {
            "backgroundcolor": "#E5ECF6",
            "gridcolor": "white",
            "gridwidth": 2,
            "linecolor": "white",
            "showbackground": true,
            "ticks": "",
            "zerolinecolor": "white"
           }
          },
          "shapedefaults": {
           "line": {
            "color": "#2a3f5f"
           }
          },
          "ternary": {
           "aaxis": {
            "gridcolor": "white",
            "linecolor": "white",
            "ticks": ""
           },
           "baxis": {
            "gridcolor": "white",
            "linecolor": "white",
            "ticks": ""
           },
           "bgcolor": "#E5ECF6",
           "caxis": {
            "gridcolor": "white",
            "linecolor": "white",
            "ticks": ""
           }
          },
          "title": {
           "x": 0.05
          },
          "xaxis": {
           "automargin": true,
           "gridcolor": "white",
           "linecolor": "white",
           "ticks": "",
           "title": {
            "standoff": 15
           },
           "zerolinecolor": "white",
           "zerolinewidth": 2
          },
          "yaxis": {
           "automargin": true,
           "gridcolor": "white",
           "linecolor": "white",
           "ticks": "",
           "title": {
            "standoff": 15
           },
           "zerolinecolor": "white",
           "zerolinewidth": 2
          }
         }
        },
        "title": {
         "font": {
          "color": "#4D5663"
         }
        },
        "xaxis": {
         "gridcolor": "#E1E5ED",
         "showgrid": true,
         "tickfont": {
          "color": "#4D5663"
         },
         "title": {
          "font": {
           "color": "#4D5663"
          },
          "text": "Number of Bedrooms"
         },
         "zerolinecolor": "#E1E5ED"
        },
        "yaxis": {
         "gridcolor": "#E1E5ED",
         "showgrid": true,
         "tickfont": {
          "color": "#4D5663"
         },
         "title": {
          "font": {
           "color": "#4D5663"
          },
          "text": "Price"
         },
         "zerolinecolor": "#E1E5ED"
        }
       }
      },
      "text/html": [
       "<div>                            <div id=\"dea44fcd-0810-4157-b4e4-70ed26139d17\" class=\"plotly-graph-div\" style=\"height:525px; width:100%;\"></div>            <script type=\"text/javascript\">                require([\"plotly\"], function(Plotly) {                    window.PLOTLYENV=window.PLOTLYENV || {};\n",
       "                    window.PLOTLYENV.BASE_URL='https://plot.ly';                                    if (document.getElementById(\"dea44fcd-0810-4157-b4e4-70ed26139d17\")) {                    Plotly.newPlot(                        \"dea44fcd-0810-4157-b4e4-70ed26139d17\",                        [{\"line\":{\"color\":\"rgba(255, 153, 51, 1.0)\",\"dash\":\"solid\",\"shape\":\"linear\",\"width\":1.3},\"marker\":{\"size\":12,\"symbol\":\"circle\"},\"mode\":\"markers\",\"name\":\"Price\",\"text\":\"\",\"x\":[3,6,1,5,1,2,0,2,2,5,3,3,7,4,3,4,6,5,1,3,4,2,1,1,3,4,4,5,2,1,2,2,5,2,1,1,3,5,3,3,3,3,2,4,4,4,7,3,1,2,2,4,8,3,1,3,3,2,1,4,2,3,2,3,2,3,2,3,3,1,3,5,5,3,5,5,3,2,1,3,3,2,2,6,3,1,1,2,4,2,1,2,3,4,1,2,4,3,3,2,6,3,3,2,2,2,6,3,1,3,9,3,2,3,9,2,4,3,3,2,6,2,10,4,9,1,4,2,1,5,3,9,7,1,4,2,6,3,3,1,4,3,4,3,3,4,2,4,2,9,2,4,3,4,1,2,5,3,3,2,2,2,4,5,4,4,5,3,3,2,2,3,4,2,4,5,1,4,12,3,3,1,6,3,2,5,5,4,8,1,3,6,6,4,5,9,4,0,1,2,2,2,2,6,2,4,1,1,3,4,1,2,4,5,3,3,2,2,2,3,4,2,1,3,1,2,4,3,3,4,5,1,3,4,2,3,6,2,2,1,3,2,3,8,3,2,2,3,4,5,2,3,5,2,2,7,3,1,2,2,2,1,1,1,1,1,1,2,1,1,3,2,6,3,1,2,3,3,2,1,8,4,1,2,2,3,9,4,1,5,1,2,6,2,1,1,2,2,2,1,3,2,3,3,6,5,2,3,1,3,2,2,4,2,0,4,6,2,4,3,5,6,2,6,1,1,4,5,3,3,2,5,4,3,5,4,2,4,1,12,1,1,2,4,3,1,4,2,2,5,3,1,4,2,2,4,3,3,1,1,9,4,1,2,6,3,6,4,2,2,4,1,6,3,4,3,5,5,2,2,2,2,2,2,4,7,2,3,2,2,2,2,3,5,4,4,3,1,2,4,1,1,3,3,2,4,6,4,2,8,2,6,5,1,3,5,4,4,2,2,1,3,4,1,7,2,4,1,2,9,3,5,4,4,3,1,5,3,2,3,2,1,1,6,1,4,5,3,2,2,3,5,6,5,1,9,4,1,5,1,4,2,3,3,5,2,5,1,4,5,5,4,2,2,2,1,3,4,2,6,1,2,1,3,3,5,1,4,3,3,2,2,2,1,3,3,2,5,4,2,1,3,1,2,5,2,7,1,5,3,4,5,4,6,8,4,6,4,1,7,3,1,1,2,2,2,8,8,3,5,12,8,7,4,3,7,11,1,2,2,2,2,5,2,3,7,2,4,4,2,2,4,5,0,2,3,0,5,6,8,1,2,3,2,0,2,3,3,3,3,2,1,5,4,4,2,1,3,1,3,3,1,5,4,5,1,2,1,3,3,3,1,2,3,3],\"y\":[3200000,274900,2095000,249000,474900,87900,899000,264900,4950000,819999,285000,289000,1390000,672000,440000,259900,1750000,169500,675000,35000,575000,315000,260000,600000,254900,429000,84900,200000,197500,99500,23000,1949900,155900,263900,325000,419000,639900,385000,139900,549900,535000,299900,2099000,1499000,1375000,799000,1099000,330000,225000,459900,59900,399900,424900,175000,340000,224900,409000,270000,1699000,385000,599000,279999,1195000,28000,625000,1200000,1295000,1450000,138500,449900,1400000,229000,265000,425000,229000,265000,425000,239900,549900,189900,494000,500000,329899,689000,499000,120000,444900,950000,375000,305000,282800,349900,299900,299900,1050000,179900,1280000,659000,1049000,364900,2995000,380000,400000,169900,249900,140000,219000,229000,259000,1300000,1300000,149900,569000,414900,695000,475000,799900,839900,849000,439250,500000,949000,380000,385000,264900,234000,449000,299000,1050000,515000,629500,675000,145000,599900,234500,49000,899000,160000,294995,600000,349000,449000,645000,675000,15000,300000,229900,445000,425000,445000,419900,364900,245000,100000,312500,375000,1999000,299900,325000,325000,575000,1699000,349000,315000,949000,305000,240000,899000,170000,420000,339900,319900,189000,69900,349000,279000,249900,200000,595000,550000,182500,120000,171000,325000,169900,614000,589000,374999,165000,644900,1300000,240000,269000,2995000,1250000,549900,149900,220000,775000,334900,199000,145000,329900,420000,359900,195000,209000,260000,879000,315000,675000,1585000,169000,200000,169999,285000,457900,183000,239000,240000,239900,199900,1850000,150000,340000,779000,775000,469613,255000,779000,249900,167250,225000,345000,3190000,1200000,199900,339000,265000,685000,690000,1200000,729900,995000,499900,364500,795000,1125000,164300,399000,1499000,849000,429900,120000,619000,249900,149000,235000,499000,269900,199900,150000,140000,260000,159900,190000,379900,270000,209900,615000,900000,240000,999995,130000,230000,60000,825000,359000,249500,600000,749900,215000,300000,160000,385000,280000,900000,299999,2395000,320000,349900,550000,163000,245000,325000,440000,1895000,370000,400000,600000,449000,1029000,299900,9999990,259900,437500,799000,399000,525000,310000,234900,349900,715000,280000,187500,599000,679900,3850000,1175000,775000,575000,179000,1325000,320000,274500,850000,239900,2900000,599000,444999,250000,1399500,299000,2395000,349900,185000,324000,210000,850000,150000,279000,340000,1800000,125000,269999,699000,289999,275000,324873,664000,274500,399900,249500,315000,899500,254900,785000,479500,157000,729900,1200000,220000,569000,354900,135000,1150000,685000,375000,95000,459000,180000,399000,395000,424900,449000,380000,349000,335000,128000,1230000,486500,360000,715000,199900,89900,899900,1050000,173900,135000,250000,279000,303000,48000,135000,300000,229000,125000,269000,299000,397500,310000,325000,189000,499900,229000,420000,749900,174900,649900,299000,535000,589000,150000,539000,468000,669000,489000,109000,179900,319000,429900,450000,219900,395000,299000,185000,220000,399000,489000,155000,340000,237900,325000,224900,295000,195000,599900,450000,275000,1499000,310000,235000,1175000,325000,292900,469000,274900,124900,189000,70000,399900,540000,639900,109900,375000,334987,329000,460000,254999,599000,99888,1349000,225000,450000,1500000,229900,255000,75000,289000,330000,4950000,310000,364000,959000,249900,2499000,424900,574900,424999,264900,419000,225000,259900,325000,289000,235000,145000,975000,799000,174900,550000,815000,159900,475000,725000,570000,294900,389000,750000,265000,339900,459000,435000,399900,359900,630000,210000,365000,825000,450000,2400000,195000,395000,150000,329000,244900,234900,159000,725000,334900,315000,379000,145000,325000,449900,123667,123667,165000,1254000,109000,123667,123667,250000,315000,123667,123667,179900,579000,170000,273500,260000,675000,465000,4325000,3500000,182500,2500000,1100000,169900,549990,280000,224900,1099000,395000,279000,130000,339900,280000,1200000,145000,465000,275000,350000,250000,249999,430000,225000,675000,1299900,345000,275000,389000,399900,315000,550000,160000,569000,275000,924500,34900,265000,2750000,1350000,4850000,157500,110000,129900,359900,255000,675000,285000,525000,142900,739000,269000],\"type\":\"scatter\"}],                        {\"legend\":{\"bgcolor\":\"#F5F6F9\",\"font\":{\"color\":\"#4D5663\"}},\"paper_bgcolor\":\"#F5F6F9\",\"plot_bgcolor\":\"#F5F6F9\",\"template\":{\"data\":{\"barpolar\":[{\"marker\":{\"line\":{\"color\":\"#E5ECF6\",\"width\":0.5},\"pattern\":{\"fillmode\":\"overlay\",\"size\":10,\"solidity\":0.2}},\"type\":\"barpolar\"}],\"bar\":[{\"error_x\":{\"color\":\"#2a3f5f\"},\"error_y\":{\"color\":\"#2a3f5f\"},\"marker\":{\"line\":{\"color\":\"#E5ECF6\",\"width\":0.5},\"pattern\":{\"fillmode\":\"overlay\",\"size\":10,\"solidity\":0.2}},\"type\":\"bar\"}],\"carpet\":[{\"aaxis\":{\"endlinecolor\":\"#2a3f5f\",\"gridcolor\":\"white\",\"linecolor\":\"white\",\"minorgridcolor\":\"white\",\"startlinecolor\":\"#2a3f5f\"},\"baxis\":{\"endlinecolor\":\"#2a3f5f\",\"gridcolor\":\"white\",\"linecolor\":\"white\",\"minorgridcolor\":\"white\",\"startlinecolor\":\"#2a3f5f\"},\"type\":\"carpet\"}],\"choropleth\":[{\"colorbar\":{\"outlinewidth\":0,\"ticks\":\"\"},\"type\":\"choropleth\"}],\"contourcarpet\":[{\"colorbar\":{\"outlinewidth\":0,\"ticks\":\"\"},\"type\":\"contourcarpet\"}],\"contour\":[{\"colorbar\":{\"outlinewidth\":0,\"ticks\":\"\"},\"colorscale\":[[0.0,\"#0d0887\"],[0.1111111111111111,\"#46039f\"],[0.2222222222222222,\"#7201a8\"],[0.3333333333333333,\"#9c179e\"],[0.4444444444444444,\"#bd3786\"],[0.5555555555555556,\"#d8576b\"],[0.6666666666666666,\"#ed7953\"],[0.7777777777777778,\"#fb9f3a\"],[0.8888888888888888,\"#fdca26\"],[1.0,\"#f0f921\"]],\"type\":\"contour\"}],\"heatmapgl\":[{\"colorbar\":{\"outlinewidth\":0,\"ticks\":\"\"},\"colorscale\":[[0.0,\"#0d0887\"],[0.1111111111111111,\"#46039f\"],[0.2222222222222222,\"#7201a8\"],[0.3333333333333333,\"#9c179e\"],[0.4444444444444444,\"#bd3786\"],[0.5555555555555556,\"#d8576b\"],[0.6666666666666666,\"#ed7953\"],[0.7777777777777778,\"#fb9f3a\"],[0.8888888888888888,\"#fdca26\"],[1.0,\"#f0f921\"]],\"type\":\"heatmapgl\"}],\"heatmap\":[{\"colorbar\":{\"outlinewidth\":0,\"ticks\":\"\"},\"colorscale\":[[0.0,\"#0d0887\"],[0.1111111111111111,\"#46039f\"],[0.2222222222222222,\"#7201a8\"],[0.3333333333333333,\"#9c179e\"],[0.4444444444444444,\"#bd3786\"],[0.5555555555555556,\"#d8576b\"],[0.6666666666666666,\"#ed7953\"],[0.7777777777777778,\"#fb9f3a\"],[0.8888888888888888,\"#fdca26\"],[1.0,\"#f0f921\"]],\"type\":\"heatmap\"}],\"histogram2dcontour\":[{\"colorbar\":{\"outlinewidth\":0,\"ticks\":\"\"},\"colorscale\":[[0.0,\"#0d0887\"],[0.1111111111111111,\"#46039f\"],[0.2222222222222222,\"#7201a8\"],[0.3333333333333333,\"#9c179e\"],[0.4444444444444444,\"#bd3786\"],[0.5555555555555556,\"#d8576b\"],[0.6666666666666666,\"#ed7953\"],[0.7777777777777778,\"#fb9f3a\"],[0.8888888888888888,\"#fdca26\"],[1.0,\"#f0f921\"]],\"type\":\"histogram2dcontour\"}],\"histogram2d\":[{\"colorbar\":{\"outlinewidth\":0,\"ticks\":\"\"},\"colorscale\":[[0.0,\"#0d0887\"],[0.1111111111111111,\"#46039f\"],[0.2222222222222222,\"#7201a8\"],[0.3333333333333333,\"#9c179e\"],[0.4444444444444444,\"#bd3786\"],[0.5555555555555556,\"#d8576b\"],[0.6666666666666666,\"#ed7953\"],[0.7777777777777778,\"#fb9f3a\"],[0.8888888888888888,\"#fdca26\"],[1.0,\"#f0f921\"]],\"type\":\"histogram2d\"}],\"histogram\":[{\"marker\":{\"pattern\":{\"fillmode\":\"overlay\",\"size\":10,\"solidity\":0.2}},\"type\":\"histogram\"}],\"mesh3d\":[{\"colorbar\":{\"outlinewidth\":0,\"ticks\":\"\"},\"type\":\"mesh3d\"}],\"parcoords\":[{\"line\":{\"colorbar\":{\"outlinewidth\":0,\"ticks\":\"\"}},\"type\":\"parcoords\"}],\"pie\":[{\"automargin\":true,\"type\":\"pie\"}],\"scatter3d\":[{\"line\":{\"colorbar\":{\"outlinewidth\":0,\"ticks\":\"\"}},\"marker\":{\"colorbar\":{\"outlinewidth\":0,\"ticks\":\"\"}},\"type\":\"scatter3d\"}],\"scattercarpet\":[{\"marker\":{\"colorbar\":{\"outlinewidth\":0,\"ticks\":\"\"}},\"type\":\"scattercarpet\"}],\"scattergeo\":[{\"marker\":{\"colorbar\":{\"outlinewidth\":0,\"ticks\":\"\"}},\"type\":\"scattergeo\"}],\"scattergl\":[{\"marker\":{\"colorbar\":{\"outlinewidth\":0,\"ticks\":\"\"}},\"type\":\"scattergl\"}],\"scattermapbox\":[{\"marker\":{\"colorbar\":{\"outlinewidth\":0,\"ticks\":\"\"}},\"type\":\"scattermapbox\"}],\"scatterpolargl\":[{\"marker\":{\"colorbar\":{\"outlinewidth\":0,\"ticks\":\"\"}},\"type\":\"scatterpolargl\"}],\"scatterpolar\":[{\"marker\":{\"colorbar\":{\"outlinewidth\":0,\"ticks\":\"\"}},\"type\":\"scatterpolar\"}],\"scatter\":[{\"fillpattern\":{\"fillmode\":\"overlay\",\"size\":10,\"solidity\":0.2},\"type\":\"scatter\"}],\"scatterternary\":[{\"marker\":{\"colorbar\":{\"outlinewidth\":0,\"ticks\":\"\"}},\"type\":\"scatterternary\"}],\"surface\":[{\"colorbar\":{\"outlinewidth\":0,\"ticks\":\"\"},\"colorscale\":[[0.0,\"#0d0887\"],[0.1111111111111111,\"#46039f\"],[0.2222222222222222,\"#7201a8\"],[0.3333333333333333,\"#9c179e\"],[0.4444444444444444,\"#bd3786\"],[0.5555555555555556,\"#d8576b\"],[0.6666666666666666,\"#ed7953\"],[0.7777777777777778,\"#fb9f3a\"],[0.8888888888888888,\"#fdca26\"],[1.0,\"#f0f921\"]],\"type\":\"surface\"}],\"table\":[{\"cells\":{\"fill\":{\"color\":\"#EBF0F8\"},\"line\":{\"color\":\"white\"}},\"header\":{\"fill\":{\"color\":\"#C8D4E3\"},\"line\":{\"color\":\"white\"}},\"type\":\"table\"}]},\"layout\":{\"annotationdefaults\":{\"arrowcolor\":\"#2a3f5f\",\"arrowhead\":0,\"arrowwidth\":1},\"autotypenumbers\":\"strict\",\"coloraxis\":{\"colorbar\":{\"outlinewidth\":0,\"ticks\":\"\"}},\"colorscale\":{\"diverging\":[[0,\"#8e0152\"],[0.1,\"#c51b7d\"],[0.2,\"#de77ae\"],[0.3,\"#f1b6da\"],[0.4,\"#fde0ef\"],[0.5,\"#f7f7f7\"],[0.6,\"#e6f5d0\"],[0.7,\"#b8e186\"],[0.8,\"#7fbc41\"],[0.9,\"#4d9221\"],[1,\"#276419\"]],\"sequential\":[[0.0,\"#0d0887\"],[0.1111111111111111,\"#46039f\"],[0.2222222222222222,\"#7201a8\"],[0.3333333333333333,\"#9c179e\"],[0.4444444444444444,\"#bd3786\"],[0.5555555555555556,\"#d8576b\"],[0.6666666666666666,\"#ed7953\"],[0.7777777777777778,\"#fb9f3a\"],[0.8888888888888888,\"#fdca26\"],[1.0,\"#f0f921\"]],\"sequentialminus\":[[0.0,\"#0d0887\"],[0.1111111111111111,\"#46039f\"],[0.2222222222222222,\"#7201a8\"],[0.3333333333333333,\"#9c179e\"],[0.4444444444444444,\"#bd3786\"],[0.5555555555555556,\"#d8576b\"],[0.6666666666666666,\"#ed7953\"],[0.7777777777777778,\"#fb9f3a\"],[0.8888888888888888,\"#fdca26\"],[1.0,\"#f0f921\"]]},\"colorway\":[\"#636efa\",\"#EF553B\",\"#00cc96\",\"#ab63fa\",\"#FFA15A\",\"#19d3f3\",\"#FF6692\",\"#B6E880\",\"#FF97FF\",\"#FECB52\"],\"font\":{\"color\":\"#2a3f5f\"},\"geo\":{\"bgcolor\":\"white\",\"lakecolor\":\"white\",\"landcolor\":\"#E5ECF6\",\"showlakes\":true,\"showland\":true,\"subunitcolor\":\"white\"},\"hoverlabel\":{\"align\":\"left\"},\"hovermode\":\"closest\",\"mapbox\":{\"style\":\"light\"},\"paper_bgcolor\":\"white\",\"plot_bgcolor\":\"#E5ECF6\",\"polar\":{\"angularaxis\":{\"gridcolor\":\"white\",\"linecolor\":\"white\",\"ticks\":\"\"},\"bgcolor\":\"#E5ECF6\",\"radialaxis\":{\"gridcolor\":\"white\",\"linecolor\":\"white\",\"ticks\":\"\"}},\"scene\":{\"xaxis\":{\"backgroundcolor\":\"#E5ECF6\",\"gridcolor\":\"white\",\"gridwidth\":2,\"linecolor\":\"white\",\"showbackground\":true,\"ticks\":\"\",\"zerolinecolor\":\"white\"},\"yaxis\":{\"backgroundcolor\":\"#E5ECF6\",\"gridcolor\":\"white\",\"gridwidth\":2,\"linecolor\":\"white\",\"showbackground\":true,\"ticks\":\"\",\"zerolinecolor\":\"white\"},\"zaxis\":{\"backgroundcolor\":\"#E5ECF6\",\"gridcolor\":\"white\",\"gridwidth\":2,\"linecolor\":\"white\",\"showbackground\":true,\"ticks\":\"\",\"zerolinecolor\":\"white\"}},\"shapedefaults\":{\"line\":{\"color\":\"#2a3f5f\"}},\"ternary\":{\"aaxis\":{\"gridcolor\":\"white\",\"linecolor\":\"white\",\"ticks\":\"\"},\"baxis\":{\"gridcolor\":\"white\",\"linecolor\":\"white\",\"ticks\":\"\"},\"bgcolor\":\"#E5ECF6\",\"caxis\":{\"gridcolor\":\"white\",\"linecolor\":\"white\",\"ticks\":\"\"}},\"title\":{\"x\":0.05},\"xaxis\":{\"automargin\":true,\"gridcolor\":\"white\",\"linecolor\":\"white\",\"ticks\":\"\",\"title\":{\"standoff\":15},\"zerolinecolor\":\"white\",\"zerolinewidth\":2},\"yaxis\":{\"automargin\":true,\"gridcolor\":\"white\",\"linecolor\":\"white\",\"ticks\":\"\",\"title\":{\"standoff\":15},\"zerolinecolor\":\"white\",\"zerolinewidth\":2}}},\"title\":{\"font\":{\"color\":\"#4D5663\"}},\"xaxis\":{\"gridcolor\":\"#E1E5ED\",\"showgrid\":true,\"tickfont\":{\"color\":\"#4D5663\"},\"title\":{\"font\":{\"color\":\"#4D5663\"},\"text\":\"Number of Bedrooms\"},\"zerolinecolor\":\"#E1E5ED\"},\"yaxis\":{\"gridcolor\":\"#E1E5ED\",\"showgrid\":true,\"tickfont\":{\"color\":\"#4D5663\"},\"title\":{\"font\":{\"color\":\"#4D5663\"},\"text\":\"Price\"},\"zerolinecolor\":\"#E1E5ED\"}},                        {\"showLink\": true, \"linkText\": \"Export to plot.ly\", \"plotlyServerURL\": \"https://plot.ly\", \"responsive\": true}                    ).then(function(){\n",
       "                            \n",
       "var gd = document.getElementById('dea44fcd-0810-4157-b4e4-70ed26139d17');\n",
       "var x = new MutationObserver(function (mutations, observer) {{\n",
       "        var display = window.getComputedStyle(gd).display;\n",
       "        if (!display || display === 'none') {{\n",
       "            console.log([gd, 'removed!']);\n",
       "            Plotly.purge(gd);\n",
       "            observer.disconnect();\n",
       "        }}\n",
       "}});\n",
       "\n",
       "// Listen for the removal of the full notebook cells\n",
       "var notebookContainer = gd.closest('#notebook-container');\n",
       "if (notebookContainer) {{\n",
       "    x.observe(notebookContainer, {childList: true});\n",
       "}}\n",
       "\n",
       "// Listen for the clearing of the current output cell\n",
       "var outputEl = gd.closest('.output');\n",
       "if (outputEl) {{\n",
       "    x.observe(outputEl, {childList: true});\n",
       "}}\n",
       "\n",
       "                        })                };                });            </script>        </div>"
      ]
     },
     "metadata": {},
     "output_type": "display_data"
    }
   ],
   "source": [
    "df.iplot(kind = \"scatter\", x = \"BdN\", y = \"Price\", mode = \"markers\", xTitle = \"Number of Bedrooms\", yTitle = \"Price\")"
   ]
  },
  {
   "cell_type": "code",
   "execution_count": 8,
   "id": "403b162d",
   "metadata": {},
   "outputs": [
    {
     "data": {
      "application/vnd.plotly.v1+json": {
       "config": {
        "linkText": "Export to plot.ly",
        "plotlyServerURL": "https://plot.ly",
        "showLink": true
       },
       "data": [
        {
         "line": {
          "color": "rgba(255, 153, 51, 1.0)",
          "dash": "solid",
          "shape": "linear",
          "width": 1.3
         },
         "marker": {
          "size": 12,
          "symbol": "circle"
         },
         "mode": "markers",
         "name": "Price",
         "text": "",
         "type": "scatter",
         "x": [
          3,
          7,
          1,
          5,
          1,
          2,
          1,
          2,
          2,
          2,
          3,
          2,
          3,
          2,
          3,
          2,
          3,
          3,
          1,
          3,
          2,
          2,
          2,
          1,
          2,
          2,
          2,
          2,
          1,
          1,
          1,
          1,
          5,
          1,
          1,
          1,
          2,
          3,
          3,
          1,
          2,
          2,
          2,
          4,
          4,
          4,
          4,
          4,
          1,
          2,
          2,
          2,
          3,
          2,
          1,
          2,
          2,
          2,
          1,
          3,
          2,
          2,
          2,
          3,
          2,
          3,
          3,
          4,
          3,
          1,
          3,
          4,
          3,
          2,
          4,
          3,
          2,
          2,
          1,
          3,
          2,
          2,
          2,
          3,
          3,
          1,
          1,
          2,
          3,
          2,
          1,
          1,
          2,
          2,
          1,
          3,
          2,
          4,
          3,
          2,
          3,
          4,
          3,
          2,
          2,
          2,
          2,
          2,
          1,
          2,
          4,
          3,
          2,
          2,
          3,
          2,
          3,
          3,
          3,
          3,
          2,
          2,
          5,
          2,
          6,
          1,
          2,
          2,
          1,
          4,
          3,
          3,
          4,
          1,
          3,
          1,
          3,
          2,
          2,
          1,
          2,
          2,
          2,
          3,
          3,
          3,
          1,
          3,
          2,
          3,
          2,
          2,
          2,
          2,
          1,
          2,
          2,
          3,
          2,
          2,
          2,
          3,
          3,
          3,
          2,
          5,
          2,
          2,
          2,
          1,
          2,
          2,
          3,
          1,
          2,
          2,
          1,
          2,
          10,
          3,
          2,
          1,
          4,
          3,
          2,
          2,
          5,
          3,
          4,
          1,
          2,
          3,
          2,
          2,
          4,
          4,
          3,
          1,
          1,
          2,
          2,
          1,
          2,
          2,
          2,
          2,
          1,
          1,
          2,
          5,
          1,
          3,
          5,
          2,
          2,
          1,
          1,
          2,
          2,
          2,
          2,
          1,
          1,
          3,
          1,
          2,
          4,
          2,
          2,
          2,
          2,
          1,
          2,
          2,
          2,
          4,
          3,
          1,
          1,
          1,
          3,
          2,
          2,
          4,
          3,
          2,
          1,
          1,
          4,
          3,
          2,
          3,
          2,
          2,
          1,
          3,
          2,
          1,
          2,
          2,
          1,
          1,
          1,
          1,
          1,
          1,
          1,
          2,
          2,
          1,
          3,
          2,
          2,
          3,
          1,
          2,
          1,
          3,
          2,
          1,
          4,
          3,
          1,
          2,
          2,
          2,
          4,
          4,
          1,
          7,
          1,
          2,
          3,
          1,
          1,
          1,
          2,
          1,
          2,
          1,
          3,
          2,
          2,
          2,
          8,
          2,
          2,
          2,
          1,
          2,
          2,
          1,
          2,
          2,
          1,
          3,
          5,
          2,
          4,
          3,
          3,
          3,
          2,
          6,
          1,
          1,
          3,
          3,
          4,
          3,
          2,
          3,
          3,
          2,
          2,
          2,
          1,
          3,
          1,
          5,
          1,
          1,
          1,
          5,
          1,
          1,
          4,
          2,
          2,
          2,
          3,
          1,
          4,
          1,
          2,
          4,
          2,
          2,
          2,
          1,
          6,
          4,
          1,
          2,
          2,
          2,
          4,
          3,
          1,
          1,
          2,
          1,
          4,
          3,
          2,
          4,
          3,
          3,
          1,
          1,
          3,
          3,
          1,
          2,
          3,
          3,
          3,
          3,
          2,
          1,
          2,
          2,
          2,
          2,
          2,
          2,
          3,
          1,
          2,
          2,
          2,
          1,
          1,
          1,
          2,
          2,
          2,
          5,
          2,
          3,
          1,
          4,
          4,
          1,
          2,
          3,
          2,
          2,
          2,
          1,
          1,
          2,
          2,
          1,
          3,
          1,
          2,
          1,
          2,
          6,
          1,
          3,
          2,
          2,
          2,
          1,
          2,
          3,
          2,
          3,
          3,
          1,
          1,
          5,
          1,
          2,
          2,
          3,
          1,
          1,
          1,
          3,
          3,
          4,
          1,
          4,
          3,
          1,
          3,
          1,
          2,
          2,
          4,
          2,
          3,
          2,
          2,
          1,
          1,
          2,
          2,
          5,
          1,
          2,
          3,
          1,
          4,
          2,
          2,
          2,
          1,
          2,
          2,
          3,
          2,
          2,
          1,
          2,
          3,
          2,
          2,
          2,
          2,
          1,
          3,
          3,
          2,
          3,
          3,
          2,
          1,
          2,
          2,
          2,
          3,
          2,
          5,
          1,
          2,
          3,
          4,
          3,
          2,
          3,
          4,
          3,
          3,
          2,
          1,
          5,
          2,
          1,
          2,
          2,
          3,
          2,
          2,
          3,
          1,
          4,
          4,
          2,
          2,
          1,
          2,
          2,
          4,
          1,
          2,
          1,
          1,
          1,
          4,
          2,
          4,
          7,
          1,
          5,
          5,
          1,
          2,
          2,
          4,
          1,
          2,
          2,
          1,
          3,
          3,
          5,
          1,
          2,
          2,
          1,
          1,
          3,
          2,
          3,
          2,
          3,
          2,
          1,
          3,
          2,
          2,
          3,
          1,
          3,
          1,
          3,
          1,
          1,
          6,
          5,
          6,
          1,
          1,
          1,
          2,
          2,
          2,
          1,
          2,
          3,
          3
         ],
         "y": [
          3200000,
          274900,
          2095000,
          249000,
          474900,
          87900,
          899000,
          264900,
          4950000,
          819999,
          285000,
          289000,
          1390000,
          672000,
          440000,
          259900,
          1750000,
          169500,
          675000,
          35000,
          575000,
          315000,
          260000,
          600000,
          254900,
          429000,
          84900,
          200000,
          197500,
          99500,
          23000,
          1949900,
          155900,
          263900,
          325000,
          419000,
          639900,
          385000,
          139900,
          549900,
          535000,
          299900,
          2099000,
          1499000,
          1375000,
          799000,
          1099000,
          330000,
          225000,
          459900,
          59900,
          399900,
          424900,
          175000,
          340000,
          224900,
          409000,
          270000,
          1699000,
          385000,
          599000,
          279999,
          1195000,
          28000,
          625000,
          1200000,
          1295000,
          1450000,
          138500,
          449900,
          1400000,
          229000,
          265000,
          425000,
          229000,
          265000,
          425000,
          239900,
          549900,
          189900,
          494000,
          500000,
          329899,
          689000,
          499000,
          120000,
          444900,
          950000,
          375000,
          305000,
          282800,
          349900,
          299900,
          299900,
          1050000,
          179900,
          1280000,
          659000,
          1049000,
          364900,
          2995000,
          380000,
          400000,
          169900,
          249900,
          140000,
          219000,
          229000,
          259000,
          1300000,
          1300000,
          149900,
          569000,
          414900,
          695000,
          475000,
          799900,
          839900,
          849000,
          439250,
          500000,
          949000,
          380000,
          385000,
          264900,
          234000,
          449000,
          299000,
          1050000,
          515000,
          629500,
          675000,
          145000,
          599900,
          234500,
          49000,
          899000,
          160000,
          294995,
          600000,
          349000,
          449000,
          645000,
          675000,
          15000,
          300000,
          229900,
          445000,
          425000,
          445000,
          419900,
          364900,
          245000,
          100000,
          312500,
          375000,
          1999000,
          299900,
          325000,
          325000,
          575000,
          1699000,
          349000,
          315000,
          949000,
          305000,
          240000,
          899000,
          170000,
          420000,
          339900,
          319900,
          189000,
          69900,
          349000,
          279000,
          249900,
          200000,
          595000,
          550000,
          182500,
          120000,
          171000,
          325000,
          169900,
          614000,
          589000,
          374999,
          165000,
          644900,
          1300000,
          240000,
          269000,
          2995000,
          1250000,
          549900,
          149900,
          220000,
          775000,
          334900,
          199000,
          145000,
          329900,
          420000,
          359900,
          195000,
          209000,
          260000,
          879000,
          315000,
          675000,
          1585000,
          169000,
          200000,
          169999,
          285000,
          457900,
          183000,
          239000,
          240000,
          239900,
          199900,
          1850000,
          150000,
          340000,
          779000,
          775000,
          469613,
          255000,
          779000,
          249900,
          167250,
          225000,
          345000,
          3190000,
          1200000,
          199900,
          339000,
          265000,
          685000,
          690000,
          1200000,
          729900,
          995000,
          499900,
          364500,
          795000,
          1125000,
          164300,
          399000,
          1499000,
          849000,
          429900,
          120000,
          619000,
          249900,
          149000,
          235000,
          499000,
          269900,
          199900,
          150000,
          140000,
          260000,
          159900,
          190000,
          379900,
          270000,
          209900,
          615000,
          900000,
          240000,
          999995,
          130000,
          230000,
          60000,
          825000,
          359000,
          249500,
          600000,
          749900,
          215000,
          300000,
          160000,
          385000,
          280000,
          900000,
          299999,
          2395000,
          320000,
          349900,
          550000,
          163000,
          245000,
          325000,
          440000,
          1895000,
          370000,
          400000,
          600000,
          449000,
          1029000,
          299900,
          9999990,
          259900,
          437500,
          799000,
          399000,
          525000,
          310000,
          234900,
          349900,
          715000,
          280000,
          187500,
          599000,
          679900,
          3850000,
          1175000,
          775000,
          575000,
          179000,
          1325000,
          320000,
          274500,
          850000,
          239900,
          2900000,
          599000,
          444999,
          250000,
          1399500,
          299000,
          2395000,
          349900,
          185000,
          324000,
          210000,
          850000,
          150000,
          279000,
          340000,
          1800000,
          125000,
          269999,
          699000,
          289999,
          275000,
          324873,
          664000,
          274500,
          399900,
          249500,
          315000,
          899500,
          254900,
          785000,
          479500,
          157000,
          729900,
          1200000,
          220000,
          569000,
          354900,
          135000,
          1150000,
          685000,
          375000,
          95000,
          459000,
          180000,
          399000,
          395000,
          424900,
          449000,
          380000,
          349000,
          335000,
          128000,
          1230000,
          486500,
          360000,
          715000,
          199900,
          89900,
          899900,
          1050000,
          173900,
          135000,
          250000,
          279000,
          303000,
          48000,
          135000,
          300000,
          229000,
          125000,
          269000,
          299000,
          397500,
          310000,
          325000,
          189000,
          499900,
          229000,
          420000,
          749900,
          174900,
          649900,
          299000,
          535000,
          589000,
          150000,
          539000,
          468000,
          669000,
          489000,
          109000,
          179900,
          319000,
          429900,
          450000,
          219900,
          395000,
          299000,
          185000,
          220000,
          399000,
          489000,
          155000,
          340000,
          237900,
          325000,
          224900,
          295000,
          195000,
          599900,
          450000,
          275000,
          1499000,
          310000,
          235000,
          1175000,
          325000,
          292900,
          469000,
          274900,
          124900,
          189000,
          70000,
          399900,
          540000,
          639900,
          109900,
          375000,
          334987,
          329000,
          460000,
          254999,
          599000,
          99888,
          1349000,
          225000,
          450000,
          1500000,
          229900,
          255000,
          75000,
          289000,
          330000,
          4950000,
          310000,
          364000,
          959000,
          249900,
          2499000,
          424900,
          574900,
          424999,
          264900,
          419000,
          225000,
          259900,
          325000,
          289000,
          235000,
          145000,
          975000,
          799000,
          174900,
          550000,
          815000,
          159900,
          475000,
          725000,
          570000,
          294900,
          389000,
          750000,
          265000,
          339900,
          459000,
          435000,
          399900,
          359900,
          630000,
          210000,
          365000,
          825000,
          450000,
          2400000,
          195000,
          395000,
          150000,
          329000,
          244900,
          234900,
          159000,
          725000,
          334900,
          315000,
          379000,
          145000,
          325000,
          449900,
          123667,
          123667,
          165000,
          1254000,
          109000,
          123667,
          123667,
          250000,
          315000,
          123667,
          123667,
          179900,
          579000,
          170000,
          273500,
          260000,
          675000,
          465000,
          4325000,
          3500000,
          182500,
          2500000,
          1100000,
          169900,
          549990,
          280000,
          224900,
          1099000,
          395000,
          279000,
          130000,
          339900,
          280000,
          1200000,
          145000,
          465000,
          275000,
          350000,
          250000,
          249999,
          430000,
          225000,
          675000,
          1299900,
          345000,
          275000,
          389000,
          399900,
          315000,
          550000,
          160000,
          569000,
          275000,
          924500,
          34900,
          265000,
          2750000,
          1350000,
          4850000,
          157500,
          110000,
          129900,
          359900,
          255000,
          675000,
          285000,
          525000,
          142900,
          739000,
          269000
         ]
        }
       ],
       "layout": {
        "legend": {
         "bgcolor": "#F5F6F9",
         "font": {
          "color": "#4D5663"
         }
        },
        "paper_bgcolor": "#F5F6F9",
        "plot_bgcolor": "#F5F6F9",
        "template": {
         "data": {
          "bar": [
           {
            "error_x": {
             "color": "#2a3f5f"
            },
            "error_y": {
             "color": "#2a3f5f"
            },
            "marker": {
             "line": {
              "color": "#E5ECF6",
              "width": 0.5
             },
             "pattern": {
              "fillmode": "overlay",
              "size": 10,
              "solidity": 0.2
             }
            },
            "type": "bar"
           }
          ],
          "barpolar": [
           {
            "marker": {
             "line": {
              "color": "#E5ECF6",
              "width": 0.5
             },
             "pattern": {
              "fillmode": "overlay",
              "size": 10,
              "solidity": 0.2
             }
            },
            "type": "barpolar"
           }
          ],
          "carpet": [
           {
            "aaxis": {
             "endlinecolor": "#2a3f5f",
             "gridcolor": "white",
             "linecolor": "white",
             "minorgridcolor": "white",
             "startlinecolor": "#2a3f5f"
            },
            "baxis": {
             "endlinecolor": "#2a3f5f",
             "gridcolor": "white",
             "linecolor": "white",
             "minorgridcolor": "white",
             "startlinecolor": "#2a3f5f"
            },
            "type": "carpet"
           }
          ],
          "choropleth": [
           {
            "colorbar": {
             "outlinewidth": 0,
             "ticks": ""
            },
            "type": "choropleth"
           }
          ],
          "contour": [
           {
            "colorbar": {
             "outlinewidth": 0,
             "ticks": ""
            },
            "colorscale": [
             [
              0,
              "#0d0887"
             ],
             [
              0.1111111111111111,
              "#46039f"
             ],
             [
              0.2222222222222222,
              "#7201a8"
             ],
             [
              0.3333333333333333,
              "#9c179e"
             ],
             [
              0.4444444444444444,
              "#bd3786"
             ],
             [
              0.5555555555555556,
              "#d8576b"
             ],
             [
              0.6666666666666666,
              "#ed7953"
             ],
             [
              0.7777777777777778,
              "#fb9f3a"
             ],
             [
              0.8888888888888888,
              "#fdca26"
             ],
             [
              1,
              "#f0f921"
             ]
            ],
            "type": "contour"
           }
          ],
          "contourcarpet": [
           {
            "colorbar": {
             "outlinewidth": 0,
             "ticks": ""
            },
            "type": "contourcarpet"
           }
          ],
          "heatmap": [
           {
            "colorbar": {
             "outlinewidth": 0,
             "ticks": ""
            },
            "colorscale": [
             [
              0,
              "#0d0887"
             ],
             [
              0.1111111111111111,
              "#46039f"
             ],
             [
              0.2222222222222222,
              "#7201a8"
             ],
             [
              0.3333333333333333,
              "#9c179e"
             ],
             [
              0.4444444444444444,
              "#bd3786"
             ],
             [
              0.5555555555555556,
              "#d8576b"
             ],
             [
              0.6666666666666666,
              "#ed7953"
             ],
             [
              0.7777777777777778,
              "#fb9f3a"
             ],
             [
              0.8888888888888888,
              "#fdca26"
             ],
             [
              1,
              "#f0f921"
             ]
            ],
            "type": "heatmap"
           }
          ],
          "heatmapgl": [
           {
            "colorbar": {
             "outlinewidth": 0,
             "ticks": ""
            },
            "colorscale": [
             [
              0,
              "#0d0887"
             ],
             [
              0.1111111111111111,
              "#46039f"
             ],
             [
              0.2222222222222222,
              "#7201a8"
             ],
             [
              0.3333333333333333,
              "#9c179e"
             ],
             [
              0.4444444444444444,
              "#bd3786"
             ],
             [
              0.5555555555555556,
              "#d8576b"
             ],
             [
              0.6666666666666666,
              "#ed7953"
             ],
             [
              0.7777777777777778,
              "#fb9f3a"
             ],
             [
              0.8888888888888888,
              "#fdca26"
             ],
             [
              1,
              "#f0f921"
             ]
            ],
            "type": "heatmapgl"
           }
          ],
          "histogram": [
           {
            "marker": {
             "pattern": {
              "fillmode": "overlay",
              "size": 10,
              "solidity": 0.2
             }
            },
            "type": "histogram"
           }
          ],
          "histogram2d": [
           {
            "colorbar": {
             "outlinewidth": 0,
             "ticks": ""
            },
            "colorscale": [
             [
              0,
              "#0d0887"
             ],
             [
              0.1111111111111111,
              "#46039f"
             ],
             [
              0.2222222222222222,
              "#7201a8"
             ],
             [
              0.3333333333333333,
              "#9c179e"
             ],
             [
              0.4444444444444444,
              "#bd3786"
             ],
             [
              0.5555555555555556,
              "#d8576b"
             ],
             [
              0.6666666666666666,
              "#ed7953"
             ],
             [
              0.7777777777777778,
              "#fb9f3a"
             ],
             [
              0.8888888888888888,
              "#fdca26"
             ],
             [
              1,
              "#f0f921"
             ]
            ],
            "type": "histogram2d"
           }
          ],
          "histogram2dcontour": [
           {
            "colorbar": {
             "outlinewidth": 0,
             "ticks": ""
            },
            "colorscale": [
             [
              0,
              "#0d0887"
             ],
             [
              0.1111111111111111,
              "#46039f"
             ],
             [
              0.2222222222222222,
              "#7201a8"
             ],
             [
              0.3333333333333333,
              "#9c179e"
             ],
             [
              0.4444444444444444,
              "#bd3786"
             ],
             [
              0.5555555555555556,
              "#d8576b"
             ],
             [
              0.6666666666666666,
              "#ed7953"
             ],
             [
              0.7777777777777778,
              "#fb9f3a"
             ],
             [
              0.8888888888888888,
              "#fdca26"
             ],
             [
              1,
              "#f0f921"
             ]
            ],
            "type": "histogram2dcontour"
           }
          ],
          "mesh3d": [
           {
            "colorbar": {
             "outlinewidth": 0,
             "ticks": ""
            },
            "type": "mesh3d"
           }
          ],
          "parcoords": [
           {
            "line": {
             "colorbar": {
              "outlinewidth": 0,
              "ticks": ""
             }
            },
            "type": "parcoords"
           }
          ],
          "pie": [
           {
            "automargin": true,
            "type": "pie"
           }
          ],
          "scatter": [
           {
            "fillpattern": {
             "fillmode": "overlay",
             "size": 10,
             "solidity": 0.2
            },
            "type": "scatter"
           }
          ],
          "scatter3d": [
           {
            "line": {
             "colorbar": {
              "outlinewidth": 0,
              "ticks": ""
             }
            },
            "marker": {
             "colorbar": {
              "outlinewidth": 0,
              "ticks": ""
             }
            },
            "type": "scatter3d"
           }
          ],
          "scattercarpet": [
           {
            "marker": {
             "colorbar": {
              "outlinewidth": 0,
              "ticks": ""
             }
            },
            "type": "scattercarpet"
           }
          ],
          "scattergeo": [
           {
            "marker": {
             "colorbar": {
              "outlinewidth": 0,
              "ticks": ""
             }
            },
            "type": "scattergeo"
           }
          ],
          "scattergl": [
           {
            "marker": {
             "colorbar": {
              "outlinewidth": 0,
              "ticks": ""
             }
            },
            "type": "scattergl"
           }
          ],
          "scattermapbox": [
           {
            "marker": {
             "colorbar": {
              "outlinewidth": 0,
              "ticks": ""
             }
            },
            "type": "scattermapbox"
           }
          ],
          "scatterpolar": [
           {
            "marker": {
             "colorbar": {
              "outlinewidth": 0,
              "ticks": ""
             }
            },
            "type": "scatterpolar"
           }
          ],
          "scatterpolargl": [
           {
            "marker": {
             "colorbar": {
              "outlinewidth": 0,
              "ticks": ""
             }
            },
            "type": "scatterpolargl"
           }
          ],
          "scatterternary": [
           {
            "marker": {
             "colorbar": {
              "outlinewidth": 0,
              "ticks": ""
             }
            },
            "type": "scatterternary"
           }
          ],
          "surface": [
           {
            "colorbar": {
             "outlinewidth": 0,
             "ticks": ""
            },
            "colorscale": [
             [
              0,
              "#0d0887"
             ],
             [
              0.1111111111111111,
              "#46039f"
             ],
             [
              0.2222222222222222,
              "#7201a8"
             ],
             [
              0.3333333333333333,
              "#9c179e"
             ],
             [
              0.4444444444444444,
              "#bd3786"
             ],
             [
              0.5555555555555556,
              "#d8576b"
             ],
             [
              0.6666666666666666,
              "#ed7953"
             ],
             [
              0.7777777777777778,
              "#fb9f3a"
             ],
             [
              0.8888888888888888,
              "#fdca26"
             ],
             [
              1,
              "#f0f921"
             ]
            ],
            "type": "surface"
           }
          ],
          "table": [
           {
            "cells": {
             "fill": {
              "color": "#EBF0F8"
             },
             "line": {
              "color": "white"
             }
            },
            "header": {
             "fill": {
              "color": "#C8D4E3"
             },
             "line": {
              "color": "white"
             }
            },
            "type": "table"
           }
          ]
         },
         "layout": {
          "annotationdefaults": {
           "arrowcolor": "#2a3f5f",
           "arrowhead": 0,
           "arrowwidth": 1
          },
          "autotypenumbers": "strict",
          "coloraxis": {
           "colorbar": {
            "outlinewidth": 0,
            "ticks": ""
           }
          },
          "colorscale": {
           "diverging": [
            [
             0,
             "#8e0152"
            ],
            [
             0.1,
             "#c51b7d"
            ],
            [
             0.2,
             "#de77ae"
            ],
            [
             0.3,
             "#f1b6da"
            ],
            [
             0.4,
             "#fde0ef"
            ],
            [
             0.5,
             "#f7f7f7"
            ],
            [
             0.6,
             "#e6f5d0"
            ],
            [
             0.7,
             "#b8e186"
            ],
            [
             0.8,
             "#7fbc41"
            ],
            [
             0.9,
             "#4d9221"
            ],
            [
             1,
             "#276419"
            ]
           ],
           "sequential": [
            [
             0,
             "#0d0887"
            ],
            [
             0.1111111111111111,
             "#46039f"
            ],
            [
             0.2222222222222222,
             "#7201a8"
            ],
            [
             0.3333333333333333,
             "#9c179e"
            ],
            [
             0.4444444444444444,
             "#bd3786"
            ],
            [
             0.5555555555555556,
             "#d8576b"
            ],
            [
             0.6666666666666666,
             "#ed7953"
            ],
            [
             0.7777777777777778,
             "#fb9f3a"
            ],
            [
             0.8888888888888888,
             "#fdca26"
            ],
            [
             1,
             "#f0f921"
            ]
           ],
           "sequentialminus": [
            [
             0,
             "#0d0887"
            ],
            [
             0.1111111111111111,
             "#46039f"
            ],
            [
             0.2222222222222222,
             "#7201a8"
            ],
            [
             0.3333333333333333,
             "#9c179e"
            ],
            [
             0.4444444444444444,
             "#bd3786"
            ],
            [
             0.5555555555555556,
             "#d8576b"
            ],
            [
             0.6666666666666666,
             "#ed7953"
            ],
            [
             0.7777777777777778,
             "#fb9f3a"
            ],
            [
             0.8888888888888888,
             "#fdca26"
            ],
            [
             1,
             "#f0f921"
            ]
           ]
          },
          "colorway": [
           "#636efa",
           "#EF553B",
           "#00cc96",
           "#ab63fa",
           "#FFA15A",
           "#19d3f3",
           "#FF6692",
           "#B6E880",
           "#FF97FF",
           "#FECB52"
          ],
          "font": {
           "color": "#2a3f5f"
          },
          "geo": {
           "bgcolor": "white",
           "lakecolor": "white",
           "landcolor": "#E5ECF6",
           "showlakes": true,
           "showland": true,
           "subunitcolor": "white"
          },
          "hoverlabel": {
           "align": "left"
          },
          "hovermode": "closest",
          "mapbox": {
           "style": "light"
          },
          "paper_bgcolor": "white",
          "plot_bgcolor": "#E5ECF6",
          "polar": {
           "angularaxis": {
            "gridcolor": "white",
            "linecolor": "white",
            "ticks": ""
           },
           "bgcolor": "#E5ECF6",
           "radialaxis": {
            "gridcolor": "white",
            "linecolor": "white",
            "ticks": ""
           }
          },
          "scene": {
           "xaxis": {
            "backgroundcolor": "#E5ECF6",
            "gridcolor": "white",
            "gridwidth": 2,
            "linecolor": "white",
            "showbackground": true,
            "ticks": "",
            "zerolinecolor": "white"
           },
           "yaxis": {
            "backgroundcolor": "#E5ECF6",
            "gridcolor": "white",
            "gridwidth": 2,
            "linecolor": "white",
            "showbackground": true,
            "ticks": "",
            "zerolinecolor": "white"
           },
           "zaxis": {
            "backgroundcolor": "#E5ECF6",
            "gridcolor": "white",
            "gridwidth": 2,
            "linecolor": "white",
            "showbackground": true,
            "ticks": "",
            "zerolinecolor": "white"
           }
          },
          "shapedefaults": {
           "line": {
            "color": "#2a3f5f"
           }
          },
          "ternary": {
           "aaxis": {
            "gridcolor": "white",
            "linecolor": "white",
            "ticks": ""
           },
           "baxis": {
            "gridcolor": "white",
            "linecolor": "white",
            "ticks": ""
           },
           "bgcolor": "#E5ECF6",
           "caxis": {
            "gridcolor": "white",
            "linecolor": "white",
            "ticks": ""
           }
          },
          "title": {
           "x": 0.05
          },
          "xaxis": {
           "automargin": true,
           "gridcolor": "white",
           "linecolor": "white",
           "ticks": "",
           "title": {
            "standoff": 15
           },
           "zerolinecolor": "white",
           "zerolinewidth": 2
          },
          "yaxis": {
           "automargin": true,
           "gridcolor": "white",
           "linecolor": "white",
           "ticks": "",
           "title": {
            "standoff": 15
           },
           "zerolinecolor": "white",
           "zerolinewidth": 2
          }
         }
        },
        "title": {
         "font": {
          "color": "#4D5663"
         }
        },
        "xaxis": {
         "gridcolor": "#E1E5ED",
         "showgrid": true,
         "tickfont": {
          "color": "#4D5663"
         },
         "title": {
          "font": {
           "color": "#4D5663"
          },
          "text": "Number of Bathrooms"
         },
         "zerolinecolor": "#E1E5ED"
        },
        "yaxis": {
         "gridcolor": "#E1E5ED",
         "showgrid": true,
         "tickfont": {
          "color": "#4D5663"
         },
         "title": {
          "font": {
           "color": "#4D5663"
          },
          "text": "Price"
         },
         "zerolinecolor": "#E1E5ED"
        }
       }
      },
      "text/html": [
       "<div>                            <div id=\"467aa78e-0bcf-4e31-bdbe-9d0156916ab9\" class=\"plotly-graph-div\" style=\"height:525px; width:100%;\"></div>            <script type=\"text/javascript\">                require([\"plotly\"], function(Plotly) {                    window.PLOTLYENV=window.PLOTLYENV || {};\n",
       "                    window.PLOTLYENV.BASE_URL='https://plot.ly';                                    if (document.getElementById(\"467aa78e-0bcf-4e31-bdbe-9d0156916ab9\")) {                    Plotly.newPlot(                        \"467aa78e-0bcf-4e31-bdbe-9d0156916ab9\",                        [{\"line\":{\"color\":\"rgba(255, 153, 51, 1.0)\",\"dash\":\"solid\",\"shape\":\"linear\",\"width\":1.3},\"marker\":{\"size\":12,\"symbol\":\"circle\"},\"mode\":\"markers\",\"name\":\"Price\",\"text\":\"\",\"x\":[3,7,1,5,1,2,1,2,2,2,3,2,3,2,3,2,3,3,1,3,2,2,2,1,2,2,2,2,1,1,1,1,5,1,1,1,2,3,3,1,2,2,2,4,4,4,4,4,1,2,2,2,3,2,1,2,2,2,1,3,2,2,2,3,2,3,3,4,3,1,3,4,3,2,4,3,2,2,1,3,2,2,2,3,3,1,1,2,3,2,1,1,2,2,1,3,2,4,3,2,3,4,3,2,2,2,2,2,1,2,4,3,2,2,3,2,3,3,3,3,2,2,5,2,6,1,2,2,1,4,3,3,4,1,3,1,3,2,2,1,2,2,2,3,3,3,1,3,2,3,2,2,2,2,1,2,2,3,2,2,2,3,3,3,2,5,2,2,2,1,2,2,3,1,2,2,1,2,10,3,2,1,4,3,2,2,5,3,4,1,2,3,2,2,4,4,3,1,1,2,2,1,2,2,2,2,1,1,2,5,1,3,5,2,2,1,1,2,2,2,2,1,1,3,1,2,4,2,2,2,2,1,2,2,2,4,3,1,1,1,3,2,2,4,3,2,1,1,4,3,2,3,2,2,1,3,2,1,2,2,1,1,1,1,1,1,1,2,2,1,3,2,2,3,1,2,1,3,2,1,4,3,1,2,2,2,4,4,1,7,1,2,3,1,1,1,2,1,2,1,3,2,2,2,8,2,2,2,1,2,2,1,2,2,1,3,5,2,4,3,3,3,2,6,1,1,3,3,4,3,2,3,3,2,2,2,1,3,1,5,1,1,1,5,1,1,4,2,2,2,3,1,4,1,2,4,2,2,2,1,6,4,1,2,2,2,4,3,1,1,2,1,4,3,2,4,3,3,1,1,3,3,1,2,3,3,3,3,2,1,2,2,2,2,2,2,3,1,2,2,2,1,1,1,2,2,2,5,2,3,1,4,4,1,2,3,2,2,2,1,1,2,2,1,3,1,2,1,2,6,1,3,2,2,2,1,2,3,2,3,3,1,1,5,1,2,2,3,1,1,1,3,3,4,1,4,3,1,3,1,2,2,4,2,3,2,2,1,1,2,2,5,1,2,3,1,4,2,2,2,1,2,2,3,2,2,1,2,3,2,2,2,2,1,3,3,2,3,3,2,1,2,2,2,3,2,5,1,2,3,4,3,2,3,4,3,3,2,1,5,2,1,2,2,3,2,2,3,1,4,4,2,2,1,2,2,4,1,2,1,1,1,4,2,4,7,1,5,5,1,2,2,4,1,2,2,1,3,3,5,1,2,2,1,1,3,2,3,2,3,2,1,3,2,2,3,1,3,1,3,1,1,6,5,6,1,1,1,2,2,2,1,2,3,3],\"y\":[3200000,274900,2095000,249000,474900,87900,899000,264900,4950000,819999,285000,289000,1390000,672000,440000,259900,1750000,169500,675000,35000,575000,315000,260000,600000,254900,429000,84900,200000,197500,99500,23000,1949900,155900,263900,325000,419000,639900,385000,139900,549900,535000,299900,2099000,1499000,1375000,799000,1099000,330000,225000,459900,59900,399900,424900,175000,340000,224900,409000,270000,1699000,385000,599000,279999,1195000,28000,625000,1200000,1295000,1450000,138500,449900,1400000,229000,265000,425000,229000,265000,425000,239900,549900,189900,494000,500000,329899,689000,499000,120000,444900,950000,375000,305000,282800,349900,299900,299900,1050000,179900,1280000,659000,1049000,364900,2995000,380000,400000,169900,249900,140000,219000,229000,259000,1300000,1300000,149900,569000,414900,695000,475000,799900,839900,849000,439250,500000,949000,380000,385000,264900,234000,449000,299000,1050000,515000,629500,675000,145000,599900,234500,49000,899000,160000,294995,600000,349000,449000,645000,675000,15000,300000,229900,445000,425000,445000,419900,364900,245000,100000,312500,375000,1999000,299900,325000,325000,575000,1699000,349000,315000,949000,305000,240000,899000,170000,420000,339900,319900,189000,69900,349000,279000,249900,200000,595000,550000,182500,120000,171000,325000,169900,614000,589000,374999,165000,644900,1300000,240000,269000,2995000,1250000,549900,149900,220000,775000,334900,199000,145000,329900,420000,359900,195000,209000,260000,879000,315000,675000,1585000,169000,200000,169999,285000,457900,183000,239000,240000,239900,199900,1850000,150000,340000,779000,775000,469613,255000,779000,249900,167250,225000,345000,3190000,1200000,199900,339000,265000,685000,690000,1200000,729900,995000,499900,364500,795000,1125000,164300,399000,1499000,849000,429900,120000,619000,249900,149000,235000,499000,269900,199900,150000,140000,260000,159900,190000,379900,270000,209900,615000,900000,240000,999995,130000,230000,60000,825000,359000,249500,600000,749900,215000,300000,160000,385000,280000,900000,299999,2395000,320000,349900,550000,163000,245000,325000,440000,1895000,370000,400000,600000,449000,1029000,299900,9999990,259900,437500,799000,399000,525000,310000,234900,349900,715000,280000,187500,599000,679900,3850000,1175000,775000,575000,179000,1325000,320000,274500,850000,239900,2900000,599000,444999,250000,1399500,299000,2395000,349900,185000,324000,210000,850000,150000,279000,340000,1800000,125000,269999,699000,289999,275000,324873,664000,274500,399900,249500,315000,899500,254900,785000,479500,157000,729900,1200000,220000,569000,354900,135000,1150000,685000,375000,95000,459000,180000,399000,395000,424900,449000,380000,349000,335000,128000,1230000,486500,360000,715000,199900,89900,899900,1050000,173900,135000,250000,279000,303000,48000,135000,300000,229000,125000,269000,299000,397500,310000,325000,189000,499900,229000,420000,749900,174900,649900,299000,535000,589000,150000,539000,468000,669000,489000,109000,179900,319000,429900,450000,219900,395000,299000,185000,220000,399000,489000,155000,340000,237900,325000,224900,295000,195000,599900,450000,275000,1499000,310000,235000,1175000,325000,292900,469000,274900,124900,189000,70000,399900,540000,639900,109900,375000,334987,329000,460000,254999,599000,99888,1349000,225000,450000,1500000,229900,255000,75000,289000,330000,4950000,310000,364000,959000,249900,2499000,424900,574900,424999,264900,419000,225000,259900,325000,289000,235000,145000,975000,799000,174900,550000,815000,159900,475000,725000,570000,294900,389000,750000,265000,339900,459000,435000,399900,359900,630000,210000,365000,825000,450000,2400000,195000,395000,150000,329000,244900,234900,159000,725000,334900,315000,379000,145000,325000,449900,123667,123667,165000,1254000,109000,123667,123667,250000,315000,123667,123667,179900,579000,170000,273500,260000,675000,465000,4325000,3500000,182500,2500000,1100000,169900,549990,280000,224900,1099000,395000,279000,130000,339900,280000,1200000,145000,465000,275000,350000,250000,249999,430000,225000,675000,1299900,345000,275000,389000,399900,315000,550000,160000,569000,275000,924500,34900,265000,2750000,1350000,4850000,157500,110000,129900,359900,255000,675000,285000,525000,142900,739000,269000],\"type\":\"scatter\"}],                        {\"legend\":{\"bgcolor\":\"#F5F6F9\",\"font\":{\"color\":\"#4D5663\"}},\"paper_bgcolor\":\"#F5F6F9\",\"plot_bgcolor\":\"#F5F6F9\",\"template\":{\"data\":{\"barpolar\":[{\"marker\":{\"line\":{\"color\":\"#E5ECF6\",\"width\":0.5},\"pattern\":{\"fillmode\":\"overlay\",\"size\":10,\"solidity\":0.2}},\"type\":\"barpolar\"}],\"bar\":[{\"error_x\":{\"color\":\"#2a3f5f\"},\"error_y\":{\"color\":\"#2a3f5f\"},\"marker\":{\"line\":{\"color\":\"#E5ECF6\",\"width\":0.5},\"pattern\":{\"fillmode\":\"overlay\",\"size\":10,\"solidity\":0.2}},\"type\":\"bar\"}],\"carpet\":[{\"aaxis\":{\"endlinecolor\":\"#2a3f5f\",\"gridcolor\":\"white\",\"linecolor\":\"white\",\"minorgridcolor\":\"white\",\"startlinecolor\":\"#2a3f5f\"},\"baxis\":{\"endlinecolor\":\"#2a3f5f\",\"gridcolor\":\"white\",\"linecolor\":\"white\",\"minorgridcolor\":\"white\",\"startlinecolor\":\"#2a3f5f\"},\"type\":\"carpet\"}],\"choropleth\":[{\"colorbar\":{\"outlinewidth\":0,\"ticks\":\"\"},\"type\":\"choropleth\"}],\"contourcarpet\":[{\"colorbar\":{\"outlinewidth\":0,\"ticks\":\"\"},\"type\":\"contourcarpet\"}],\"contour\":[{\"colorbar\":{\"outlinewidth\":0,\"ticks\":\"\"},\"colorscale\":[[0.0,\"#0d0887\"],[0.1111111111111111,\"#46039f\"],[0.2222222222222222,\"#7201a8\"],[0.3333333333333333,\"#9c179e\"],[0.4444444444444444,\"#bd3786\"],[0.5555555555555556,\"#d8576b\"],[0.6666666666666666,\"#ed7953\"],[0.7777777777777778,\"#fb9f3a\"],[0.8888888888888888,\"#fdca26\"],[1.0,\"#f0f921\"]],\"type\":\"contour\"}],\"heatmapgl\":[{\"colorbar\":{\"outlinewidth\":0,\"ticks\":\"\"},\"colorscale\":[[0.0,\"#0d0887\"],[0.1111111111111111,\"#46039f\"],[0.2222222222222222,\"#7201a8\"],[0.3333333333333333,\"#9c179e\"],[0.4444444444444444,\"#bd3786\"],[0.5555555555555556,\"#d8576b\"],[0.6666666666666666,\"#ed7953\"],[0.7777777777777778,\"#fb9f3a\"],[0.8888888888888888,\"#fdca26\"],[1.0,\"#f0f921\"]],\"type\":\"heatmapgl\"}],\"heatmap\":[{\"colorbar\":{\"outlinewidth\":0,\"ticks\":\"\"},\"colorscale\":[[0.0,\"#0d0887\"],[0.1111111111111111,\"#46039f\"],[0.2222222222222222,\"#7201a8\"],[0.3333333333333333,\"#9c179e\"],[0.4444444444444444,\"#bd3786\"],[0.5555555555555556,\"#d8576b\"],[0.6666666666666666,\"#ed7953\"],[0.7777777777777778,\"#fb9f3a\"],[0.8888888888888888,\"#fdca26\"],[1.0,\"#f0f921\"]],\"type\":\"heatmap\"}],\"histogram2dcontour\":[{\"colorbar\":{\"outlinewidth\":0,\"ticks\":\"\"},\"colorscale\":[[0.0,\"#0d0887\"],[0.1111111111111111,\"#46039f\"],[0.2222222222222222,\"#7201a8\"],[0.3333333333333333,\"#9c179e\"],[0.4444444444444444,\"#bd3786\"],[0.5555555555555556,\"#d8576b\"],[0.6666666666666666,\"#ed7953\"],[0.7777777777777778,\"#fb9f3a\"],[0.8888888888888888,\"#fdca26\"],[1.0,\"#f0f921\"]],\"type\":\"histogram2dcontour\"}],\"histogram2d\":[{\"colorbar\":{\"outlinewidth\":0,\"ticks\":\"\"},\"colorscale\":[[0.0,\"#0d0887\"],[0.1111111111111111,\"#46039f\"],[0.2222222222222222,\"#7201a8\"],[0.3333333333333333,\"#9c179e\"],[0.4444444444444444,\"#bd3786\"],[0.5555555555555556,\"#d8576b\"],[0.6666666666666666,\"#ed7953\"],[0.7777777777777778,\"#fb9f3a\"],[0.8888888888888888,\"#fdca26\"],[1.0,\"#f0f921\"]],\"type\":\"histogram2d\"}],\"histogram\":[{\"marker\":{\"pattern\":{\"fillmode\":\"overlay\",\"size\":10,\"solidity\":0.2}},\"type\":\"histogram\"}],\"mesh3d\":[{\"colorbar\":{\"outlinewidth\":0,\"ticks\":\"\"},\"type\":\"mesh3d\"}],\"parcoords\":[{\"line\":{\"colorbar\":{\"outlinewidth\":0,\"ticks\":\"\"}},\"type\":\"parcoords\"}],\"pie\":[{\"automargin\":true,\"type\":\"pie\"}],\"scatter3d\":[{\"line\":{\"colorbar\":{\"outlinewidth\":0,\"ticks\":\"\"}},\"marker\":{\"colorbar\":{\"outlinewidth\":0,\"ticks\":\"\"}},\"type\":\"scatter3d\"}],\"scattercarpet\":[{\"marker\":{\"colorbar\":{\"outlinewidth\":0,\"ticks\":\"\"}},\"type\":\"scattercarpet\"}],\"scattergeo\":[{\"marker\":{\"colorbar\":{\"outlinewidth\":0,\"ticks\":\"\"}},\"type\":\"scattergeo\"}],\"scattergl\":[{\"marker\":{\"colorbar\":{\"outlinewidth\":0,\"ticks\":\"\"}},\"type\":\"scattergl\"}],\"scattermapbox\":[{\"marker\":{\"colorbar\":{\"outlinewidth\":0,\"ticks\":\"\"}},\"type\":\"scattermapbox\"}],\"scatterpolargl\":[{\"marker\":{\"colorbar\":{\"outlinewidth\":0,\"ticks\":\"\"}},\"type\":\"scatterpolargl\"}],\"scatterpolar\":[{\"marker\":{\"colorbar\":{\"outlinewidth\":0,\"ticks\":\"\"}},\"type\":\"scatterpolar\"}],\"scatter\":[{\"fillpattern\":{\"fillmode\":\"overlay\",\"size\":10,\"solidity\":0.2},\"type\":\"scatter\"}],\"scatterternary\":[{\"marker\":{\"colorbar\":{\"outlinewidth\":0,\"ticks\":\"\"}},\"type\":\"scatterternary\"}],\"surface\":[{\"colorbar\":{\"outlinewidth\":0,\"ticks\":\"\"},\"colorscale\":[[0.0,\"#0d0887\"],[0.1111111111111111,\"#46039f\"],[0.2222222222222222,\"#7201a8\"],[0.3333333333333333,\"#9c179e\"],[0.4444444444444444,\"#bd3786\"],[0.5555555555555556,\"#d8576b\"],[0.6666666666666666,\"#ed7953\"],[0.7777777777777778,\"#fb9f3a\"],[0.8888888888888888,\"#fdca26\"],[1.0,\"#f0f921\"]],\"type\":\"surface\"}],\"table\":[{\"cells\":{\"fill\":{\"color\":\"#EBF0F8\"},\"line\":{\"color\":\"white\"}},\"header\":{\"fill\":{\"color\":\"#C8D4E3\"},\"line\":{\"color\":\"white\"}},\"type\":\"table\"}]},\"layout\":{\"annotationdefaults\":{\"arrowcolor\":\"#2a3f5f\",\"arrowhead\":0,\"arrowwidth\":1},\"autotypenumbers\":\"strict\",\"coloraxis\":{\"colorbar\":{\"outlinewidth\":0,\"ticks\":\"\"}},\"colorscale\":{\"diverging\":[[0,\"#8e0152\"],[0.1,\"#c51b7d\"],[0.2,\"#de77ae\"],[0.3,\"#f1b6da\"],[0.4,\"#fde0ef\"],[0.5,\"#f7f7f7\"],[0.6,\"#e6f5d0\"],[0.7,\"#b8e186\"],[0.8,\"#7fbc41\"],[0.9,\"#4d9221\"],[1,\"#276419\"]],\"sequential\":[[0.0,\"#0d0887\"],[0.1111111111111111,\"#46039f\"],[0.2222222222222222,\"#7201a8\"],[0.3333333333333333,\"#9c179e\"],[0.4444444444444444,\"#bd3786\"],[0.5555555555555556,\"#d8576b\"],[0.6666666666666666,\"#ed7953\"],[0.7777777777777778,\"#fb9f3a\"],[0.8888888888888888,\"#fdca26\"],[1.0,\"#f0f921\"]],\"sequentialminus\":[[0.0,\"#0d0887\"],[0.1111111111111111,\"#46039f\"],[0.2222222222222222,\"#7201a8\"],[0.3333333333333333,\"#9c179e\"],[0.4444444444444444,\"#bd3786\"],[0.5555555555555556,\"#d8576b\"],[0.6666666666666666,\"#ed7953\"],[0.7777777777777778,\"#fb9f3a\"],[0.8888888888888888,\"#fdca26\"],[1.0,\"#f0f921\"]]},\"colorway\":[\"#636efa\",\"#EF553B\",\"#00cc96\",\"#ab63fa\",\"#FFA15A\",\"#19d3f3\",\"#FF6692\",\"#B6E880\",\"#FF97FF\",\"#FECB52\"],\"font\":{\"color\":\"#2a3f5f\"},\"geo\":{\"bgcolor\":\"white\",\"lakecolor\":\"white\",\"landcolor\":\"#E5ECF6\",\"showlakes\":true,\"showland\":true,\"subunitcolor\":\"white\"},\"hoverlabel\":{\"align\":\"left\"},\"hovermode\":\"closest\",\"mapbox\":{\"style\":\"light\"},\"paper_bgcolor\":\"white\",\"plot_bgcolor\":\"#E5ECF6\",\"polar\":{\"angularaxis\":{\"gridcolor\":\"white\",\"linecolor\":\"white\",\"ticks\":\"\"},\"bgcolor\":\"#E5ECF6\",\"radialaxis\":{\"gridcolor\":\"white\",\"linecolor\":\"white\",\"ticks\":\"\"}},\"scene\":{\"xaxis\":{\"backgroundcolor\":\"#E5ECF6\",\"gridcolor\":\"white\",\"gridwidth\":2,\"linecolor\":\"white\",\"showbackground\":true,\"ticks\":\"\",\"zerolinecolor\":\"white\"},\"yaxis\":{\"backgroundcolor\":\"#E5ECF6\",\"gridcolor\":\"white\",\"gridwidth\":2,\"linecolor\":\"white\",\"showbackground\":true,\"ticks\":\"\",\"zerolinecolor\":\"white\"},\"zaxis\":{\"backgroundcolor\":\"#E5ECF6\",\"gridcolor\":\"white\",\"gridwidth\":2,\"linecolor\":\"white\",\"showbackground\":true,\"ticks\":\"\",\"zerolinecolor\":\"white\"}},\"shapedefaults\":{\"line\":{\"color\":\"#2a3f5f\"}},\"ternary\":{\"aaxis\":{\"gridcolor\":\"white\",\"linecolor\":\"white\",\"ticks\":\"\"},\"baxis\":{\"gridcolor\":\"white\",\"linecolor\":\"white\",\"ticks\":\"\"},\"bgcolor\":\"#E5ECF6\",\"caxis\":{\"gridcolor\":\"white\",\"linecolor\":\"white\",\"ticks\":\"\"}},\"title\":{\"x\":0.05},\"xaxis\":{\"automargin\":true,\"gridcolor\":\"white\",\"linecolor\":\"white\",\"ticks\":\"\",\"title\":{\"standoff\":15},\"zerolinecolor\":\"white\",\"zerolinewidth\":2},\"yaxis\":{\"automargin\":true,\"gridcolor\":\"white\",\"linecolor\":\"white\",\"ticks\":\"\",\"title\":{\"standoff\":15},\"zerolinecolor\":\"white\",\"zerolinewidth\":2}}},\"title\":{\"font\":{\"color\":\"#4D5663\"}},\"xaxis\":{\"gridcolor\":\"#E1E5ED\",\"showgrid\":true,\"tickfont\":{\"color\":\"#4D5663\"},\"title\":{\"font\":{\"color\":\"#4D5663\"},\"text\":\"Number of Bathrooms\"},\"zerolinecolor\":\"#E1E5ED\"},\"yaxis\":{\"gridcolor\":\"#E1E5ED\",\"showgrid\":true,\"tickfont\":{\"color\":\"#4D5663\"},\"title\":{\"font\":{\"color\":\"#4D5663\"},\"text\":\"Price\"},\"zerolinecolor\":\"#E1E5ED\"}},                        {\"showLink\": true, \"linkText\": \"Export to plot.ly\", \"plotlyServerURL\": \"https://plot.ly\", \"responsive\": true}                    ).then(function(){\n",
       "                            \n",
       "var gd = document.getElementById('467aa78e-0bcf-4e31-bdbe-9d0156916ab9');\n",
       "var x = new MutationObserver(function (mutations, observer) {{\n",
       "        var display = window.getComputedStyle(gd).display;\n",
       "        if (!display || display === 'none') {{\n",
       "            console.log([gd, 'removed!']);\n",
       "            Plotly.purge(gd);\n",
       "            observer.disconnect();\n",
       "        }}\n",
       "}});\n",
       "\n",
       "// Listen for the removal of the full notebook cells\n",
       "var notebookContainer = gd.closest('#notebook-container');\n",
       "if (notebookContainer) {{\n",
       "    x.observe(notebookContainer, {childList: true});\n",
       "}}\n",
       "\n",
       "// Listen for the clearing of the current output cell\n",
       "var outputEl = gd.closest('.output');\n",
       "if (outputEl) {{\n",
       "    x.observe(outputEl, {childList: true});\n",
       "}}\n",
       "\n",
       "                        })                };                });            </script>        </div>"
      ]
     },
     "metadata": {},
     "output_type": "display_data"
    }
   ],
   "source": [
    "df.iplot(kind = \"scatter\", x = \"BaN\", y = \"Price\", mode = \"markers\", xTitle = \"Number of Bathrooms\", yTitle = \"Price\")"
   ]
  },
  {
   "cell_type": "code",
   "execution_count": 9,
   "id": "4356a0c7",
   "metadata": {},
   "outputs": [
    {
     "data": {
      "text/plain": [
       "60610"
      ]
     },
     "execution_count": 9,
     "metadata": {},
     "output_type": "execute_result"
    }
   ],
   "source": [
    "df[\"Zip\"][df[\"Price\"].idxmax()]\n",
    "# This is the zip code for the most expensive listing: it is a pricey zip code, with neighborhoods like Old Town and Near North Side"
   ]
  },
  {
   "cell_type": "code",
   "execution_count": 10,
   "id": "b13175ee",
   "metadata": {},
   "outputs": [
    {
     "data": {
      "text/html": [
       "<div>\n",
       "<style scoped>\n",
       "    .dataframe tbody tr th:only-of-type {\n",
       "        vertical-align: middle;\n",
       "    }\n",
       "\n",
       "    .dataframe tbody tr th {\n",
       "        vertical-align: top;\n",
       "    }\n",
       "\n",
       "    .dataframe thead th {\n",
       "        text-align: right;\n",
       "    }\n",
       "</style>\n",
       "<table border=\"1\" class=\"dataframe\">\n",
       "  <thead>\n",
       "    <tr style=\"text-align: right;\">\n",
       "      <th></th>\n",
       "      <th>BaN</th>\n",
       "      <th>Sqft</th>\n",
       "      <th>Price</th>\n",
       "      <th>Zip</th>\n",
       "    </tr>\n",
       "    <tr>\n",
       "      <th>BdN</th>\n",
       "      <th></th>\n",
       "      <th></th>\n",
       "      <th></th>\n",
       "      <th></th>\n",
       "    </tr>\n",
       "  </thead>\n",
       "  <tbody>\n",
       "    <tr>\n",
       "      <th>0</th>\n",
       "      <td>6</td>\n",
       "      <td>4</td>\n",
       "      <td>6</td>\n",
       "      <td>6</td>\n",
       "    </tr>\n",
       "    <tr>\n",
       "      <th>1</th>\n",
       "      <td>98</td>\n",
       "      <td>69</td>\n",
       "      <td>98</td>\n",
       "      <td>98</td>\n",
       "    </tr>\n",
       "    <tr>\n",
       "      <th>2</th>\n",
       "      <td>151</td>\n",
       "      <td>108</td>\n",
       "      <td>151</td>\n",
       "      <td>151</td>\n",
       "    </tr>\n",
       "    <tr>\n",
       "      <th>3</th>\n",
       "      <td>131</td>\n",
       "      <td>107</td>\n",
       "      <td>131</td>\n",
       "      <td>131</td>\n",
       "    </tr>\n",
       "    <tr>\n",
       "      <th>4</th>\n",
       "      <td>88</td>\n",
       "      <td>59</td>\n",
       "      <td>88</td>\n",
       "      <td>88</td>\n",
       "    </tr>\n",
       "    <tr>\n",
       "      <th>5</th>\n",
       "      <td>56</td>\n",
       "      <td>35</td>\n",
       "      <td>56</td>\n",
       "      <td>56</td>\n",
       "    </tr>\n",
       "    <tr>\n",
       "      <th>6</th>\n",
       "      <td>29</td>\n",
       "      <td>8</td>\n",
       "      <td>29</td>\n",
       "      <td>29</td>\n",
       "    </tr>\n",
       "    <tr>\n",
       "      <th>7</th>\n",
       "      <td>11</td>\n",
       "      <td>1</td>\n",
       "      <td>11</td>\n",
       "      <td>11</td>\n",
       "    </tr>\n",
       "    <tr>\n",
       "      <th>8</th>\n",
       "      <td>10</td>\n",
       "      <td>0</td>\n",
       "      <td>10</td>\n",
       "      <td>10</td>\n",
       "    </tr>\n",
       "    <tr>\n",
       "      <th>9</th>\n",
       "      <td>10</td>\n",
       "      <td>0</td>\n",
       "      <td>10</td>\n",
       "      <td>10</td>\n",
       "    </tr>\n",
       "    <tr>\n",
       "      <th>10</th>\n",
       "      <td>1</td>\n",
       "      <td>0</td>\n",
       "      <td>1</td>\n",
       "      <td>1</td>\n",
       "    </tr>\n",
       "    <tr>\n",
       "      <th>11</th>\n",
       "      <td>1</td>\n",
       "      <td>0</td>\n",
       "      <td>1</td>\n",
       "      <td>1</td>\n",
       "    </tr>\n",
       "    <tr>\n",
       "      <th>12</th>\n",
       "      <td>3</td>\n",
       "      <td>0</td>\n",
       "      <td>3</td>\n",
       "      <td>3</td>\n",
       "    </tr>\n",
       "  </tbody>\n",
       "</table>\n",
       "</div>"
      ],
      "text/plain": [
       "     BaN  Sqft  Price  Zip\n",
       "BdN                       \n",
       "0      6     4      6    6\n",
       "1     98    69     98   98\n",
       "2    151   108    151  151\n",
       "3    131   107    131  131\n",
       "4     88    59     88   88\n",
       "5     56    35     56   56\n",
       "6     29     8     29   29\n",
       "7     11     1     11   11\n",
       "8     10     0     10   10\n",
       "9     10     0     10   10\n",
       "10     1     0      1    1\n",
       "11     1     0      1    1\n",
       "12     3     0      3    3"
      ]
     },
     "execution_count": 10,
     "metadata": {},
     "output_type": "execute_result"
    }
   ],
   "source": [
    "df.groupby(\"BdN\").count()\n",
    "# looks like bed rooms above 7 drop off in sqft. Lets explore the trend of listings without sqft"
   ]
  },
  {
   "cell_type": "code",
   "execution_count": 11,
   "id": "8be977da",
   "metadata": {},
   "outputs": [],
   "source": [
    "# creating dummy variable for sqft: Nan gets 0\n",
    "def target(row):\n",
    "    if row[\"Sqft\"] >= 0:\n",
    "        return 1\n",
    "    else:\n",
    "        return 0\n",
    "df[\"sqdummy\"] = df.apply(lambda row:target(row), axis = 1)"
   ]
  },
  {
   "cell_type": "code",
   "execution_count": 12,
   "id": "8753eabf",
   "metadata": {},
   "outputs": [
    {
     "data": {
      "text/plain": [
       "Text(0.5, 1.0, 'Mean Listing Price')"
      ]
     },
     "execution_count": 12,
     "metadata": {},
     "output_type": "execute_result"
    },
    {
     "data": {
      "image/png": "[encoded data removed]",
      "text/plain": [
       "<Figure size 864x288 with 2 Axes>"
      ]
     },
     "metadata": {
      "needs_background": "light"
     },
     "output_type": "display_data"
    }
   ],
   "source": [
    "fig,axes = plt.subplots(ncols = 2, figsize = (12,4))\n",
    "sns.boxplot(ax = axes[0], x = \"sqdummy\", y = \"Price\", data = df, palette = \"coolwarm\")\n",
    "sns.barplot(ax = axes[1], x = \"sqdummy\", y = \"Price\", data = df, palette = \"coolwarm\")\n",
    "axes[0].set_title(\"Distribution of Prices\")\n",
    "axes[1].set_title(\"Mean Listing Price\")"
   ]
  },
  {
   "cell_type": "code",
   "execution_count": 13,
   "id": "900f7471",
   "metadata": {},
   "outputs": [
    {
     "data": {
      "text/plain": [
       "(-0.005343099891497824, 0.8965196914305449)"
      ]
     },
     "execution_count": 13,
     "metadata": {},
     "output_type": "execute_result"
    }
   ],
   "source": [
    "st.pearsonr(df[\"sqdummy\"],df[\"Price\"])\n",
    "# looks like there is no relationship between having no sqft posted and price"
   ]
  },
  {
   "cell_type": "code",
   "execution_count": 14,
   "id": "592eb72c",
   "metadata": {},
   "outputs": [
    {
     "data": {
      "text/plain": [
       "<AxesSubplot:xlabel='sqdummy', ylabel='count'>"
      ]
     },
     "execution_count": 14,
     "metadata": {},
     "output_type": "execute_result"
    },
    {
     "data": {
      "image/png": "[encoded data removed]",
      "text/plain": [
       "<Figure size 432x288 with 1 Axes>"
      ]
     },
     "metadata": {
      "needs_background": "light"
     },
     "output_type": "display_data"
    }
   ],
   "source": [
    "sns.countplot(x = \"sqdummy\", data = df)"
   ]
  },
  {
   "cell_type": "code",
   "execution_count": 15,
   "id": "9c4f1189",
   "metadata": {},
   "outputs": [
    {
     "data": {
      "image/png": "[encoded data removed]",
      "text/plain": [
       "<Figure size 864x288 with 4 Axes>"
      ]
     },
     "metadata": {
      "needs_background": "light"
     },
     "output_type": "display_data"
    }
   ],
   "source": [
    "# lets drop the nan values from sqft and see if there are any other trends\n",
    "fig,axes = plt.subplots(ncols = 2, figsize = (12,4))\n",
    "sns.heatmap(df.corr(), annot = True, ax = axes[0])\n",
    "sns.heatmap(df.dropna().drop(\"sqdummy\",axis = 1).corr(),annot=True, ax = axes[1])\n",
    "plt.tight_layout()"
   ]
  },
  {
   "cell_type": "code",
   "execution_count": 16,
   "id": "36cbf13c",
   "metadata": {},
   "outputs": [
    {
     "data": {
      "image/png": "[encoded data removed]",
      "text/plain": [
       "<Figure size 864x360 with 4 Axes>"
      ]
     },
     "metadata": {
      "needs_background": "light"
     },
     "output_type": "display_data"
    }
   ],
   "source": [
    "# highest correlation with Sqft seems to be number of bathrooms and number of bedrooms\n",
    "dropdf = df.dropna().drop(\"sqdummy\",axis = 1)\n",
    "fig, axes = plt.subplots(figsize = (12,5), ncols = 2, nrows = 2)\n",
    "sns.histplot( x = \"BaN\", data = dropdf,ax = axes[0,0], bins = 5)\n",
    "axes[0,0].set_title(\"Distribution of Bathrooms\")\n",
    "sns.histplot(x = \"Sqft\", data = dropdf,ax = axes[0,1], bins = 15)\n",
    "axes[0,1].set_title(\"Distribution of Sqft\")\n",
    "sns.scatterplot( x = \"Sqft\", y = \"BaN\", data = dropdf, ax =axes [1,0])\n",
    "axes[1,0].set_title(\"Bathrooms and Sqft\")\n",
    "sns.scatterplot( x = \"Sqft\", y = \"BdN\", data = dropdf, ax =axes [1,1])\n",
    "axes[1,1].set_title(\"Bedrooms and Sqft\")\n",
    "plt.tight_layout()"
   ]
  },
  {
   "cell_type": "code",
   "execution_count": 17,
   "id": "585887b6",
   "metadata": {},
   "outputs": [
    {
     "name": "stdout",
     "output_type": "stream",
     "text": [
      "Bathroom and Sqft Correlation: 0.42625689306604053 P Val: 1.0818366253102507e-18\n",
      "Bedroom and Sqft Correlation: 0.42625689306604053 P Val: 1.0818366253102507e-18\n"
     ]
    }
   ],
   "source": [
    "basq = st.pearsonr(dropdf[\"Sqft\"],dropdf[\"BaN\"])\n",
    "bdsq = st.pearsonr(dropdf[\"Sqft\"],dropdf[\"BdN\"])\n",
    "print(\"Bathroom and Sqft Correlation:\",bdsq[0],\"P Val:\",bdsq[1])\n",
    "print(\"Bedroom and Sqft Correlation:\",bdsq[0],\"P Val:\",bdsq[1])"
   ]
  },
  {
   "cell_type": "code",
   "execution_count": 18,
   "id": "1405b229",
   "metadata": {},
   "outputs": [],
   "source": [
    "# Average Sqft per Bathroom Dist\n",
    "#1 - 2 Bathrooms\n",
    "onetwo = dropdf[(dropdf[\"BaN\"]==1)|(dropdf[\"BaN\"]==2)][\"Sqft\"].mean()\n",
    "threefour = dropdf[(dropdf[\"BaN\"]==3)|(dropdf[\"BaN\"]==4)][\"Sqft\"].mean()\n",
    "fivemore = dropdf[dropdf[\"BaN\"]>=5][\"Sqft\"].mean()"
   ]
  },
  {
   "cell_type": "code",
   "execution_count": 19,
   "id": "f2bab323",
   "metadata": {},
   "outputs": [],
   "source": [
    "# Lets fill in the nan sqft using the average sqft of matching number of bathrooms\n",
    "def simple_sq (cols):\n",
    "    Sqft = cols[0]\n",
    "    BaN = cols[1]\n",
    "    \n",
    "    if pd.isnull(Sqft):\n",
    "        if BaN >= 1 and BaN <=2:\n",
    "            return onetwo\n",
    "        elif BaN >= 3 and BaN <=4:\n",
    "            return threefour\n",
    "        else:\n",
    "            return fivemore\n",
    "    else:\n",
    "        return Sqft \n",
    "\n",
    "df[\"Sqft\"] = df[[\"Sqft\",\"BaN\"]].apply(simple_sq, axis = 1)   "
   ]
  },
  {
   "cell_type": "code",
   "execution_count": 20,
   "id": "1aca62c4",
   "metadata": {},
   "outputs": [
    {
     "data": {
      "text/html": [
       "<div>\n",
       "<style scoped>\n",
       "    .dataframe tbody tr th:only-of-type {\n",
       "        vertical-align: middle;\n",
       "    }\n",
       "\n",
       "    .dataframe tbody tr th {\n",
       "        vertical-align: top;\n",
       "    }\n",
       "\n",
       "    .dataframe thead th {\n",
       "        text-align: right;\n",
       "    }\n",
       "</style>\n",
       "<table border=\"1\" class=\"dataframe\">\n",
       "  <thead>\n",
       "    <tr style=\"text-align: right;\">\n",
       "      <th></th>\n",
       "      <th>BdN</th>\n",
       "      <th>BaN</th>\n",
       "      <th>Sqft</th>\n",
       "      <th>Price</th>\n",
       "      <th>Zip</th>\n",
       "      <th>sqdummy</th>\n",
       "    </tr>\n",
       "  </thead>\n",
       "  <tbody>\n",
       "    <tr>\n",
       "      <th>0</th>\n",
       "      <td>3</td>\n",
       "      <td>3</td>\n",
       "      <td>3300.000000</td>\n",
       "      <td>3200000</td>\n",
       "      <td>60613</td>\n",
       "      <td>1</td>\n",
       "    </tr>\n",
       "    <tr>\n",
       "      <th>1</th>\n",
       "      <td>6</td>\n",
       "      <td>7</td>\n",
       "      <td>5245.833333</td>\n",
       "      <td>274900</td>\n",
       "      <td>60654</td>\n",
       "      <td>0</td>\n",
       "    </tr>\n",
       "    <tr>\n",
       "      <th>2</th>\n",
       "      <td>1</td>\n",
       "      <td>1</td>\n",
       "      <td>800.000000</td>\n",
       "      <td>2095000</td>\n",
       "      <td>60614</td>\n",
       "      <td>1</td>\n",
       "    </tr>\n",
       "    <tr>\n",
       "      <th>3</th>\n",
       "      <td>5</td>\n",
       "      <td>5</td>\n",
       "      <td>5245.833333</td>\n",
       "      <td>249000</td>\n",
       "      <td>60607</td>\n",
       "      <td>0</td>\n",
       "    </tr>\n",
       "    <tr>\n",
       "      <th>4</th>\n",
       "      <td>1</td>\n",
       "      <td>1</td>\n",
       "      <td>875.000000</td>\n",
       "      <td>474900</td>\n",
       "      <td>60607</td>\n",
       "      <td>1</td>\n",
       "    </tr>\n",
       "  </tbody>\n",
       "</table>\n",
       "</div>"
      ],
      "text/plain": [
       "   BdN  BaN         Sqft    Price    Zip  sqdummy\n",
       "0    3    3  3300.000000  3200000  60613        1\n",
       "1    6    7  5245.833333   274900  60654        0\n",
       "2    1    1   800.000000  2095000  60614        1\n",
       "3    5    5  5245.833333   249000  60607        0\n",
       "4    1    1   875.000000   474900  60607        1"
      ]
     },
     "execution_count": 20,
     "metadata": {},
     "output_type": "execute_result"
    }
   ],
   "source": [
    "# now our sqft is filled with average sqft values using the number of bathrooms\n",
    "df.head()"
   ]
  },
  {
   "cell_type": "code",
   "execution_count": 21,
   "id": "0248c3fe",
   "metadata": {},
   "outputs": [],
   "source": [
    "###########################################"
   ]
  },
  {
   "cell_type": "code",
   "execution_count": 22,
   "id": "66f52854",
   "metadata": {},
   "outputs": [],
   "source": [
    "###########################################"
   ]
  },
  {
   "cell_type": "code",
   "execution_count": 56,
   "id": "5fb0da9d",
   "metadata": {},
   "outputs": [
    {
     "data": {
      "text/html": [
       "<div>\n",
       "<style scoped>\n",
       "    .dataframe tbody tr th:only-of-type {\n",
       "        vertical-align: middle;\n",
       "    }\n",
       "\n",
       "    .dataframe tbody tr th {\n",
       "        vertical-align: top;\n",
       "    }\n",
       "\n",
       "    .dataframe thead th {\n",
       "        text-align: right;\n",
       "    }\n",
       "</style>\n",
       "<table border=\"1\" class=\"dataframe\">\n",
       "  <thead>\n",
       "    <tr style=\"text-align: right;\">\n",
       "      <th></th>\n",
       "      <th>Coeff</th>\n",
       "    </tr>\n",
       "  </thead>\n",
       "  <tbody>\n",
       "    <tr>\n",
       "      <th>BdN</th>\n",
       "      <td>-33304.914494</td>\n",
       "    </tr>\n",
       "    <tr>\n",
       "      <th>BaN</th>\n",
       "      <td>60077.374426</td>\n",
       "    </tr>\n",
       "    <tr>\n",
       "      <th>Sqft</th>\n",
       "      <td>-5.839629</td>\n",
       "    </tr>\n",
       "    <tr>\n",
       "      <th>Zip</th>\n",
       "      <td>-5336.779348</td>\n",
       "    </tr>\n",
       "  </tbody>\n",
       "</table>\n",
       "</div>"
      ],
      "text/plain": [
       "             Coeff\n",
       "BdN  -33304.914494\n",
       "BaN   60077.374426\n",
       "Sqft     -5.839629\n",
       "Zip   -5336.779348"
      ]
     },
     "execution_count": 56,
     "metadata": {},
     "output_type": "execute_result"
    }
   ],
   "source": [
    "# Linear Regression Model to predict list prices\n",
    "X = df.drop([\"Price\",\"sqdummy\"], axis = 1)\n",
    "y = df[\"Price\"]\n",
    "X_train, X_test, y_train, y_test = train_test_split(X, y, test_size=0.3)\n",
    "lm = LinearRegression()\n",
    "lm.fit(X_train,y_train)\n",
    "pd.DataFrame(lm.coef_, X_train.columns,columns = [\"Coeff\"])"
   ]
  },
  {
   "cell_type": "code",
   "execution_count": 57,
   "id": "bd9028d8",
   "metadata": {},
   "outputs": [
    {
     "data": {
      "text/plain": [
       "<matplotlib.collections.PathCollection at 0x241a6052760>"
      ]
     },
     "execution_count": 57,
     "metadata": {},
     "output_type": "execute_result"
    },
    {
     "data": {
      "image/png": "[encoded data removed]",
      "text/plain": [
       "<Figure size 432x288 with 1 Axes>"
      ]
     },
     "metadata": {
      "needs_background": "light"
     },
     "output_type": "display_data"
    }
   ],
   "source": [
    "predictions = lm.predict(X_test)\n",
    "plt.scatter(y_test,predictions)"
   ]
  },
  {
   "cell_type": "code",
   "execution_count": 58,
   "id": "c32086cd",
   "metadata": {},
   "outputs": [
    {
     "name": "stdout",
     "output_type": "stream",
     "text": [
      "MAE: 359832.79688061815\n",
      "MSE: 299974864517.6618\n",
      "RMSE: 547699.6115734078\n",
      "R RMSE: 0.987192262909183\n",
      "R2: -0.0355192314264432\n",
      "R: 0.07780461327219852 , P Val: 0.30056044606149573\n"
     ]
    }
   ],
   "source": [
    "# MAE\n",
    "from sklearn import metrics\n",
    "print(\"MAE:\", metrics.mean_absolute_error(y_test,predictions))\n",
    "# MSE\n",
    "print(\"MSE:\",metrics.mean_squared_error(y_test,predictions))\n",
    "# RMSE\n",
    "print(\"RMSE:\",np.sqrt(metrics.mean_squared_error(y_test,predictions)))\n",
    "# R RMSE\n",
    "print(\"R RMSE:\",np.sqrt(metrics.mean_squared_error(y_test,predictions))/df[\"Price\"].mean())\n",
    "# R2 Score\n",
    "from sklearn.metrics import r2_score\n",
    "print(\"R2:\",r2_score(y_test,predictions))\n",
    "# Pearson R and P Value\n",
    "print(\"R:\",st.pearsonr(y_test,predictions)[0],\", P Val:\",st.pearsonr(y_test,predictions)[1])"
   ]
  },
  {
   "cell_type": "code",
   "execution_count": 59,
   "id": "d2be6219",
   "metadata": {},
   "outputs": [
    {
     "data": {
      "text/plain": [
       "<AxesSubplot:xlabel='Price', ylabel='Count'>"
      ]
     },
     "execution_count": 59,
     "metadata": {},
     "output_type": "execute_result"
    },
    {
     "data": {
      "image/png": "[encoded data removed]",
      "text/plain": [
       "<Figure size 432x288 with 1 Axes>"
      ]
     },
     "metadata": {
      "needs_background": "light"
     },
     "output_type": "display_data"
    }
   ],
   "source": [
    "sns.histplot((y_test-predictions), bins = 50)"
   ]
  },
  {
   "cell_type": "code",
   "execution_count": 60,
   "id": "9befeb18",
   "metadata": {},
   "outputs": [
    {
     "name": "stdout",
     "output_type": "stream",
     "text": [
      "MAE: 430275.64874718443\n",
      "MSE: 547637971547.86694\n",
      "RMSE: 740025.656006511\n",
      "R RMSE: 1.3338472157488566\n",
      "R2: -0.015409997389634\n",
      "R: 0.008639121129570007 , P Val: 0.9086227120141367\n"
     ]
    }
   ],
   "source": [
    "# Will getting rid of the Zip help?\n",
    "X = df.drop([\"sqdummy\",\"Price\",\"Zip\"], axis = 1)\n",
    "y = df[\"Price\"]\n",
    "X_train, X_test, y_train, y_test = train_test_split(X, y, test_size=0.3)\n",
    "lm = LinearRegression()\n",
    "lm.fit(X_train,y_train)\n",
    "predictions = lm.predict(X_test)\n",
    "# MAE\n",
    "from sklearn import metrics\n",
    "print(\"MAE:\", metrics.mean_absolute_error(y_test,predictions))\n",
    "# MSE\n",
    "print(\"MSE:\",metrics.mean_squared_error(y_test,predictions))\n",
    "# RMSE\n",
    "print(\"RMSE:\",np.sqrt(metrics.mean_squared_error(y_test,predictions)))\n",
    "# R RMSE\n",
    "print(\"R RMSE:\",np.sqrt(metrics.mean_squared_error(y_test,predictions))/df[\"Price\"].mean())\n",
    "# R2 Score\n",
    "from sklearn.metrics import r2_score\n",
    "print(\"R2:\",r2_score(y_test,predictions))\n",
    "# Pearson R and P Value\n",
    "print(\"R:\",st.pearsonr(y_test,predictions)[0],\", P Val:\",st.pearsonr(y_test,predictions)[1])"
   ]
  },
  {
   "cell_type": "code",
   "execution_count": 61,
   "id": "f54ed787",
   "metadata": {},
   "outputs": [
    {
     "data": {
      "text/html": [
       "<div>\n",
       "<style scoped>\n",
       "    .dataframe tbody tr th:only-of-type {\n",
       "        vertical-align: middle;\n",
       "    }\n",
       "\n",
       "    .dataframe tbody tr th {\n",
       "        vertical-align: top;\n",
       "    }\n",
       "\n",
       "    .dataframe thead th {\n",
       "        text-align: right;\n",
       "    }\n",
       "</style>\n",
       "<table border=\"1\" class=\"dataframe\">\n",
       "  <thead>\n",
       "    <tr style=\"text-align: right;\">\n",
       "      <th></th>\n",
       "      <th>Coeff</th>\n",
       "    </tr>\n",
       "  </thead>\n",
       "  <tbody>\n",
       "    <tr>\n",
       "      <th>BaN</th>\n",
       "      <td>1.090391e+00</td>\n",
       "    </tr>\n",
       "    <tr>\n",
       "      <th>Sqft</th>\n",
       "      <td>2.200171e-05</td>\n",
       "    </tr>\n",
       "    <tr>\n",
       "      <th>Price</th>\n",
       "      <td>-3.775316e-08</td>\n",
       "    </tr>\n",
       "    <tr>\n",
       "      <th>Zip</th>\n",
       "      <td>2.401418e-04</td>\n",
       "    </tr>\n",
       "  </tbody>\n",
       "</table>\n",
       "</div>"
      ],
      "text/plain": [
       "              Coeff\n",
       "BaN    1.090391e+00\n",
       "Sqft   2.200171e-05\n",
       "Price -3.775316e-08\n",
       "Zip    2.401418e-04"
      ]
     },
     "execution_count": 61,
     "metadata": {},
     "output_type": "execute_result"
    }
   ],
   "source": [
    "# Okay, it looks like we cannot predict the price of the houses in Chicago very well. \n",
    "# However, lets see if we can predict the number of bedrooms\n",
    "X = df.drop([\"sqdummy\",\"BdN\"], axis = 1)\n",
    "y = df[\"BdN\"]\n",
    "X_train, X_test, y_train, y_test = train_test_split(X, y, test_size=0.3)\n",
    "lm = LinearRegression()\n",
    "lm.fit(X_train,y_train)\n",
    "pd.DataFrame(lm.coef_, X_train.columns,columns = [\"Coeff\"])"
   ]
  },
  {
   "cell_type": "code",
   "execution_count": 62,
   "id": "9a5e7a43",
   "metadata": {},
   "outputs": [
    {
     "data": {
      "text/plain": [
       "<matplotlib.collections.PathCollection at 0x241a617bb50>"
      ]
     },
     "execution_count": 62,
     "metadata": {},
     "output_type": "execute_result"
    },
    {
     "data": {
      "image/png": "[encoded data removed]",
      "text/plain": [
       "<Figure size 432x288 with 1 Axes>"
      ]
     },
     "metadata": {
      "needs_background": "light"
     },
     "output_type": "display_data"
    }
   ],
   "source": [
    "predictions = lm.predict(X_test)\n",
    "plt.scatter(y_test,predictions)"
   ]
  },
  {
   "cell_type": "code",
   "execution_count": 63,
   "id": "3949aa8f",
   "metadata": {},
   "outputs": [
    {
     "name": "stdout",
     "output_type": "stream",
     "text": [
      "MAE: 1.0162187627206622\n",
      "MSE: 1.7867691263154644\n",
      "RMSE: 1.3367008365058595\n",
      "RMSE: 0.4179385169316796\n",
      "R2: 0.4550641590714293\n",
      "R: 0.6746084591629271 , P Val: 4.0710731243508006e-25\n"
     ]
    }
   ],
   "source": [
    "# MAE\n",
    "from sklearn import metrics\n",
    "print(\"MAE:\", metrics.mean_absolute_error(y_test,predictions))\n",
    "# MSE\n",
    "print(\"MSE:\",metrics.mean_squared_error(y_test,predictions))\n",
    "# RMSE\n",
    "print(\"RMSE:\",np.sqrt(metrics.mean_squared_error(y_test,predictions)))\n",
    "# R RMSE\n",
    "print(\"RMSE:\",np.sqrt(metrics.mean_squared_error(y_test,predictions))/df[\"BdN\"].mean())\n",
    "# R2 Score\n",
    "from sklearn.metrics import r2_score\n",
    "print(\"R2:\",r2_score(y_test,predictions))\n",
    "# Pearson R and P Value\n",
    "print(\"R:\",st.pearsonr(y_test,predictions)[0],\", P Val:\",st.pearsonr(y_test,predictions)[1])"
   ]
  },
  {
   "cell_type": "code",
   "execution_count": 64,
   "id": "05ebd41a",
   "metadata": {},
   "outputs": [
    {
     "data": {
      "text/plain": [
       "<AxesSubplot:xlabel='BdN', ylabel='Count'>"
      ]
     },
     "execution_count": 64,
     "metadata": {},
     "output_type": "execute_result"
    },
    {
     "data": {
      "image/png": "[encoded data removed]",
      "text/plain": [
       "<Figure size 432x288 with 1 Axes>"
      ]
     },
     "metadata": {
      "needs_background": "light"
     },
     "output_type": "display_data"
    }
   ],
   "source": [
    "sns.histplot((y_test-predictions), bins = 50)"
   ]
  },
  {
   "cell_type": "code",
   "execution_count": 65,
   "id": "d3b2a58d",
   "metadata": {},
   "outputs": [
    {
     "name": "stdout",
     "output_type": "stream",
     "text": [
      "MAE: 1.1211262551875654\n",
      "MSE: 2.3447159755430946\n",
      "RMSE: 1.5312465430305777\n",
      "RMSE: 0.4787659974267965\n",
      "R2: 0.35404590923462387\n",
      "R: 0.5969047646704024 , P Val: 1.1639306078186296e-18\n"
     ]
    }
   ],
   "source": [
    "# Will getting rid of the Zip help?\n",
    "X = df.drop([\"sqdummy\",\"BdN\",\"Zip\"], axis = 1)\n",
    "y = df[\"BdN\"]\n",
    "X_train, X_test, y_train, y_test = train_test_split(X, y, test_size=0.3)\n",
    "lm = LinearRegression()\n",
    "lm.fit(X_train,y_train)\n",
    "predictions = lm.predict(X_test)\n",
    "# MAE\n",
    "from sklearn import metrics\n",
    "print(\"MAE:\", metrics.mean_absolute_error(y_test,predictions))\n",
    "# MSE\n",
    "print(\"MSE:\",metrics.mean_squared_error(y_test,predictions))\n",
    "# RMSE\n",
    "print(\"RMSE:\",np.sqrt(metrics.mean_squared_error(y_test,predictions)))\n",
    "# R RMSE\n",
    "print(\"RMSE:\",np.sqrt(metrics.mean_squared_error(y_test,predictions))/df[\"BdN\"].mean())\n",
    "# R2 Score\n",
    "from sklearn.metrics import r2_score\n",
    "print(\"R2:\",r2_score(y_test,predictions))\n",
    "# Pearson R and P Value\n",
    "print(\"R:\",st.pearsonr(y_test,predictions)[0],\", P Val:\",st.pearsonr(y_test,predictions)[1])"
   ]
  },
  {
   "cell_type": "code",
   "execution_count": 66,
   "id": "5d8b248d",
   "metadata": {},
   "outputs": [
    {
     "name": "stdout",
     "output_type": "stream",
     "text": [
      "MAE: 0.8416835381315845\n",
      "MSE: 0.9960865824852685\n",
      "RMSE: 0.9980413731330322\n",
      "R RMSE: 0.3120518218676585\n",
      "R2: 0.4621093824112904\n",
      "R: 0.6813573305057974 , P Val: 2.0471961772217828e-17\n"
     ]
    }
   ],
   "source": [
    "# Okay what about predicting the number of bedrooms with data that didn't have sq extracted from bathrooms\n",
    "X = dropdf.drop([\"BdN\"], axis = 1)\n",
    "y = dropdf[\"BdN\"]\n",
    "X_train, X_test, y_train, y_test = train_test_split(X, y, test_size=0.3)\n",
    "lm = LinearRegression()\n",
    "lm.fit(X_train,y_train)\n",
    "predictions = lm.predict(X_test)\n",
    "# MAE\n",
    "from sklearn import metrics\n",
    "print(\"MAE:\", metrics.mean_absolute_error(y_test,predictions))\n",
    "# MSE\n",
    "print(\"MSE:\",metrics.mean_squared_error(y_test,predictions))\n",
    "# RMSE\n",
    "print(\"RMSE:\",np.sqrt(metrics.mean_squared_error(y_test,predictions)))\n",
    "# R RMSE\n",
    "print(\"R RMSE:\",np.sqrt(metrics.mean_squared_error(y_test,predictions))/df[\"BdN\"].mean())\n",
    "# R2 Score\n",
    "from sklearn.metrics import r2_score\n",
    "print(\"R2:\",r2_score(y_test,predictions))\n",
    "# Pearson R and P Value\n",
    "print(\"R:\",st.pearsonr(y_test,predictions)[0],\", P Val:\",st.pearsonr(y_test,predictions)[1])"
   ]
  },
  {
   "cell_type": "code",
   "execution_count": 67,
   "id": "2ae5264f",
   "metadata": {},
   "outputs": [
    {
     "name": "stdout",
     "output_type": "stream",
     "text": [
      "MAE: 0.8729764856414445\n",
      "MSE: 1.1687406503020763\n",
      "RMSE: 1.0810830913033818\n",
      "R RMSE: 0.33801599544167743\n",
      "R2: 0.3652320936612665\n",
      "R: 0.6219113950762045 , P Val: 5.6414852872105825e-14\n"
     ]
    }
   ],
   "source": [
    "# Lets Drop Zip from the model\n",
    "X = dropdf.drop([\"BdN\", \"Zip\"], axis = 1)\n",
    "y = dropdf[\"BdN\"]\n",
    "X_train, X_test, y_train, y_test = train_test_split(X, y, test_size=0.3)\n",
    "lm = LinearRegression()\n",
    "lm.fit(X_train,y_train)\n",
    "predictions = lm.predict(X_test)\n",
    "# MAE\n",
    "from sklearn import metrics\n",
    "print(\"MAE:\", metrics.mean_absolute_error(y_test,predictions))\n",
    "# MSE\n",
    "print(\"MSE:\",metrics.mean_squared_error(y_test,predictions))\n",
    "# RMSE\n",
    "print(\"RMSE:\",np.sqrt(metrics.mean_squared_error(y_test,predictions)))\n",
    "# R RMSE\n",
    "print(\"R RMSE:\",np.sqrt(metrics.mean_squared_error(y_test,predictions))/df[\"BdN\"].mean())\n",
    "# R2 Score\n",
    "from sklearn.metrics import r2_score\n",
    "print(\"R2:\",r2_score(y_test,predictions))\n",
    "# Pearson R and P Value\n",
    "print(\"R:\",st.pearsonr(y_test,predictions)[0],\", P Val:\",st.pearsonr(y_test,predictions)[1])"
   ]
  },
  {
   "cell_type": "code",
   "execution_count": null,
   "id": "c9036542",
   "metadata": {},
   "outputs": [],
   "source": []
  }
 ],
 "metadata": {
  "kernelspec": {
   "display_name": "Python 3 (ipykernel)",
   "language": "python",
   "name": "python3"
  },
  "language_info": {
   "codemirror_mode": {
    "name": "ipython",
    "version": 3
   },
   "file_extension": ".py",
   "mimetype": "text/x-python",
   "name": "python",
   "nbconvert_exporter": "python",
   "pygments_lexer": "ipython3",
   "version": "3.9.7"
  }
 },
 "nbformat": 4,
 "nbformat_minor": 5
}
